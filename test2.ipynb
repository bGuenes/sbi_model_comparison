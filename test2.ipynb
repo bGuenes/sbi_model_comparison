{
 "cells": [
  {
   "cell_type": "code",
   "execution_count": 1,
   "id": "f6cf1838",
   "metadata": {},
   "outputs": [],
   "source": [
    "from compass import ModelTransfuser\n",
    "from compass import ScoreBasedInferenceModel as SBIm\n",
    "\n",
    "import torch\n",
    "import numpy as np\n",
    "import os"
   ]
  },
  {
   "cell_type": "code",
   "execution_count": 2,
   "id": "bd86d034",
   "metadata": {},
   "outputs": [],
   "source": [
    "names = [name for name in os.listdir(\"data/big_MTf_model_comp/\") if \"checkpoint\" in name]"
   ]
  },
  {
   "cell_type": "code",
   "execution_count": 3,
   "id": "3dff1d9f",
   "metadata": {},
   "outputs": [],
   "source": [
    "MTf = ModelTransfuser(path=\"data/big_MTf_model_comp/\")"
   ]
  },
  {
   "cell_type": "code",
   "execution_count": 4,
   "id": "165b801b",
   "metadata": {},
   "outputs": [
    {
     "name": "stdout",
     "output_type": "stream",
     "text": [
      "Model Karakas_net_yield_CL18_net_Seitenzahl added to transfuser.\n",
      "Model Karakas_net_yield_Frischknecht16_net_Seitenzahl added to transfuser.\n",
      "Model Karakas_net_yield_Nomoto2013_Seitenzahl added to transfuser.\n",
      "Model Karakas_net_yield_Nomoto2013_net_Seitenzahl added to transfuser.\n",
      "Model Karakas_net_yield_NuGrid_net_Seitenzahl added to transfuser.\n",
      "Model Karakas_net_yield_Portinari_net_Seitenzahl added to transfuser.\n",
      "Model Karakas_net_yield_TNG_net_Seitenzahl added to transfuser.\n",
      "Model Karakas_net_yield_West17_net_Seitenzahl added to transfuser.\n",
      "Model Karakas_net_yield_chieffi04_Seitenzahl added to transfuser.\n",
      "Model Karakas_net_yield_chieffi04_net_Seitenzahl added to transfuser.\n",
      "Model Nugrid_CL18_net_Seitenzahl added to transfuser.\n",
      "Model Nugrid_Frischknecht16_net_Seitenzahl added to transfuser.\n",
      "Model Nugrid_Nomoto2013_Seitenzahl added to transfuser.\n",
      "Model Nugrid_Nomoto2013_net_Seitenzahl added to transfuser.\n",
      "Model Nugrid_NuGrid_net_Seitenzahl added to transfuser.\n",
      "Model Nugrid_Portinari_net_Seitenzahl added to transfuser.\n",
      "Model Nugrid_TNG_net_Seitenzahl added to transfuser.\n",
      "Model Nugrid_West17_net_Seitenzahl added to transfuser.\n",
      "Model Nugrid_chieffi04_Seitenzahl added to transfuser.\n",
      "Model Nugrid_chieffi04_net_Seitenzahl added to transfuser.\n",
      "Model TNG_net_CL18_net_Seitenzahl added to transfuser.\n",
      "Model TNG_net_Frischknecht16_net_Seitenzahl added to transfuser.\n",
      "Model TNG_net_Nomoto2013_Seitenzahl added to transfuser.\n",
      "Model TNG_net_Nomoto2013_net_Seitenzahl added to transfuser.\n",
      "Model TNG_net_NuGrid_net_Seitenzahl added to transfuser.\n",
      "Model TNG_net_Portinari_net_Seitenzahl added to transfuser.\n",
      "Model TNG_net_TNG_net_Seitenzahl added to transfuser.\n",
      "Model TNG_net_West17_net_Seitenzahl added to transfuser.\n",
      "Model TNG_net_chieffi04_Seitenzahl added to transfuser.\n",
      "Model TNG_net_chieffi04_net_Seitenzahl added to transfuser.\n",
      "Model Ventura_net_CL18_net_Seitenzahl added to transfuser.\n",
      "Model Ventura_net_Frischknecht16_net_Seitenzahl added to transfuser.\n",
      "Model Ventura_net_Nomoto2013_Seitenzahl added to transfuser.\n",
      "Model Ventura_net_Nomoto2013_net_Seitenzahl added to transfuser.\n",
      "Model Ventura_net_NuGrid_net_Seitenzahl added to transfuser.\n",
      "Model Ventura_net_Portinari_net_Seitenzahl added to transfuser.\n",
      "Model Ventura_net_TNG_net_Seitenzahl added to transfuser.\n",
      "Model Ventura_net_West17_net_Seitenzahl added to transfuser.\n",
      "Model Ventura_net_chieffi04_Seitenzahl added to transfuser.\n",
      "Model Ventura_net_chieffi04_net_Seitenzahl added to transfuser.\n"
     ]
    }
   ],
   "source": [
    "for name in names:\n",
    "    model = SBIm.load(\"data/big_MTf_model_comp/\" + name, device=\"cuda\")\n",
    "    model_name = name.replace(\"_checkpoint.pt\", \"\")\n",
    "    MTf.add_model(model_name, model)"
   ]
  },
  {
   "cell_type": "code",
   "execution_count": 5,
   "id": "10ae8126",
   "metadata": {},
   "outputs": [],
   "source": [
    "data = np.load(\"data/nissen_gce_data/nissen_solar.npy\").T\n",
    "data_std = np.load(\"data/nissen_gce_data/nissen_solar_std.npy\").T"
   ]
  },
  {
   "cell_type": "code",
   "execution_count": 6,
   "id": "6d012880",
   "metadata": {},
   "outputs": [],
   "source": [
    "# Remove star 4, because time is negative\n",
    "data = np.delete(data, 4, axis=0)\n",
    "data_std = np.delete(data_std, 4, axis=0)\n",
    "\n",
    "# Convert to torch tensors\n",
    "data = torch.tensor(data)\n",
    "data_std = torch.tensor(data_std)\n",
    "\n",
    "# Nissen GCE provides Age, C, Fe, Mg, O and Si\n",
    "# The models are trained on more elements, so we need to provide a mask to tell the model which data is available\n",
    "condition_mask = torch.tensor([0,0,0,0,0,1,1,1,0,1,0,0,1,1])"
   ]
  },
  {
   "cell_type": "code",
   "execution_count": 7,
   "id": "8704db2f",
   "metadata": {},
   "outputs": [
    {
     "name": "stderr",
     "output_type": "stream",
     "text": [
      "W0430 15:16:23.428000 3909796 site-packages/torch/multiprocessing/spawn.py:169] Terminating process 3910089 via signal SIGTERM\n",
      "W0430 15:16:23.432000 3909796 site-packages/torch/multiprocessing/spawn.py:169] Terminating process 3910090 via signal SIGTERM\n",
      "W0430 15:16:23.434000 3909796 site-packages/torch/multiprocessing/spawn.py:169] Terminating process 3910091 via signal SIGTERM\n",
      "W0430 15:16:23.436000 3909796 site-packages/torch/multiprocessing/spawn.py:169] Terminating process 3910092 via signal SIGTERM\n",
      "W0430 15:16:23.438000 3909796 site-packages/torch/multiprocessing/spawn.py:169] Terminating process 3910093 via signal SIGTERM\n",
      "W0430 15:16:23.440000 3909796 site-packages/torch/multiprocessing/spawn.py:169] Terminating process 3910094 via signal SIGTERM\n",
      "W0430 15:16:23.443000 3909796 site-packages/torch/multiprocessing/spawn.py:169] Terminating process 3910096 via signal SIGTERM\n",
      "W0430 15:16:23.446000 3909796 site-packages/torch/multiprocessing/spawn.py:169] Terminating process 3910097 via signal SIGTERM\n",
      "W0430 15:16:23.447000 3909796 site-packages/torch/multiprocessing/spawn.py:169] Terminating process 3910098 via signal SIGTERM\n"
     ]
    },
    {
     "ename": "ProcessRaisedException",
     "evalue": "\n\n-- Process 6 terminated with the following error:\nTraceback (most recent call last):\n  File \"/export/home/bguenes/anaconda3/envs/sbi-compass/lib/python3.13/site-packages/torch/multiprocessing/spawn.py\", line 90, in _wrap\n    fn(i, *args)\n    ~~^^^^^^^^^^\n  File \"/export/home/bguenes/anaconda3/envs/sbi-compass/lib/python3.13/site-packages/compass/Sampler.py\", line 115, in _sample_loop\n    self._ddp_setup(rank, self.world_size)\n    ~~~~~~~~~~~~~~~^^^^^^^^^^^^^^^^^^^^^^^\n  File \"/export/home/bguenes/anaconda3/envs/sbi-compass/lib/python3.13/site-packages/compass/Sampler.py\", line 184, in _ddp_setup\n    self.model = DDP(self.SBIm.model, device_ids=[rank])\n                 ~~~^^^^^^^^^^^^^^^^^^^^^^^^^^^^^^^^^^^^\n  File \"/export/home/bguenes/anaconda3/envs/sbi-compass/lib/python3.13/site-packages/torch/nn/parallel/distributed.py\", line 835, in __init__\n    _verify_param_shape_across_processes(self.process_group, parameters)\n    ~~~~~~~~~~~~~~~~~~~~~~~~~~~~~~~~~~~~^^^^^^^^^^^^^^^^^^^^^^^^^^^^^^^^\n  File \"/export/home/bguenes/anaconda3/envs/sbi-compass/lib/python3.13/site-packages/torch/distributed/utils.py\", line 282, in _verify_param_shape_across_processes\n    return dist._verify_params_across_processes(process_group, tensors, logger)\n           ~~~~~~~~~~~~~~~~~~~~~~~~~~~~~~~~~~~~^^^^^^^^^^^^^^^^^^^^^^^^^^^^^^^^\ntorch.distributed.DistBackendError: NCCL error in: /pytorch/torch/csrc/distributed/c10d/NCCLUtils.cpp:77, unhandled cuda error (run with NCCL_DEBUG=INFO for details), NCCL version 2.26.2\nncclUnhandledCudaError: Call to CUDA function failed.\nLast error:\nCuda failure 'out of memory'\n",
     "output_type": "error",
     "traceback": [
      "\u001b[31m---------------------------------------------------------------------------\u001b[39m",
      "\u001b[31mProcessRaisedException\u001b[39m                    Traceback (most recent call last)",
      "\u001b[36mCell\u001b[39m\u001b[36m \u001b[39m\u001b[32mIn[7]\u001b[39m\u001b[32m, line 1\u001b[39m\n\u001b[32m----> \u001b[39m\u001b[32m1\u001b[39m MTf.compare(x=data, err=data_std, condition_mask=condition_mask, device=\u001b[33m\"\u001b[39m\u001b[33mcuda\u001b[39m\u001b[33m\"\u001b[39m)\n",
      "\u001b[36mFile \u001b[39m\u001b[32m~/anaconda3/envs/sbi-compass/lib/python3.13/site-packages/compass/ModelTransfuser.py:235\u001b[39m, in \u001b[36mModelTransfuser.compare\u001b[39m\u001b[34m(self, x, err, condition_mask, timesteps, eps, num_samples, cfg_alpha, multi_obs_inference, hierarchy, order, snr, corrector_steps_interval, corrector_steps, final_corrector_steps, device, verbose, method)\u001b[39m\n\u001b[32m    232\u001b[39m     condition_mask = torch.cat([torch.zeros(model.nodes_size-x.shape[-\u001b[32m1\u001b[39m]),torch.ones(x.shape[-\u001b[32m1\u001b[39m])])\n\u001b[32m    233\u001b[39m \u001b[38;5;66;03m####################\u001b[39;00m\n\u001b[32m    234\u001b[39m \u001b[38;5;66;03m# Posterior sampling\u001b[39;00m\n\u001b[32m--> \u001b[39m\u001b[32m235\u001b[39m posterior_samples = model.sample(x=x, err=err, condition_mask=condition_mask,\n\u001b[32m    236\u001b[39m                                 timesteps=timesteps, eps=eps, num_samples=num_samples, cfg_alpha=cfg_alpha,\n\u001b[32m    237\u001b[39m                                 multi_obs_inference=multi_obs_inference, hierarchy=hierarchy,\n\u001b[32m    238\u001b[39m                                 order=order, snr=snr, corrector_steps_interval=corrector_steps_interval, corrector_steps=corrector_steps, final_corrector_steps=final_corrector_steps,\n\u001b[32m    239\u001b[39m                                 device=device, verbose=verbose, method=method)\n\u001b[32m    240\u001b[39m posterior_samples = posterior_samples.cpu().numpy()\n\u001b[32m    242\u001b[39m \u001b[38;5;66;03m# MAP estimation\u001b[39;00m\n",
      "\u001b[36mFile \u001b[39m\u001b[32m~/anaconda3/envs/sbi-compass/lib/python3.13/site-packages/compass/ScoreBasedInferenceModel.py:188\u001b[39m, in \u001b[36mScoreBasedInferenceModel.sample\u001b[39m\u001b[34m(self, theta, x, err, condition_mask, timesteps, eps, num_samples, cfg_alpha, multi_obs_inference, hierarchy, order, snr, corrector_steps_interval, corrector_steps, final_corrector_steps, device, verbose, method, save_trajectory)\u001b[39m\n\u001b[32m    185\u001b[39m     world_size = \u001b[32m1\u001b[39m\n\u001b[32m    187\u001b[39m \u001b[38;5;28;01mif\u001b[39;00m multi_obs_inference == \u001b[38;5;28;01mFalse\u001b[39;00m:\n\u001b[32m--> \u001b[39m\u001b[32m188\u001b[39m     samples = \u001b[38;5;28mself\u001b[39m.sampler.sample(world_size=world_size, data=data, err=err, condition_mask=condition_mask, timesteps=timesteps, num_samples=num_samples, device=device, cfg_alpha=cfg_alpha,\n\u001b[32m    189\u001b[39m                             order=order, snr=snr, corrector_steps_interval=corrector_steps_interval, corrector_steps=corrector_steps, final_corrector_steps=final_corrector_steps,\n\u001b[32m    190\u001b[39m                             verbose=verbose, method=method, save_trajectory=save_trajectory)\n\u001b[32m    192\u001b[39m \u001b[38;5;28;01melif\u001b[39;00m multi_obs_inference == \u001b[38;5;28;01mTrue\u001b[39;00m:\n\u001b[32m    193\u001b[39m     \u001b[38;5;66;03m# Hierarchical Compositional Score Modeling\u001b[39;00m\n\u001b[32m    194\u001b[39m     samples = \u001b[38;5;28mself\u001b[39m.multi_obs_sampler.sample(world_size=world_size, data=data, condition_mask=condition_mask, timesteps=timesteps, num_samples=num_samples, device=device, cfg_alpha=cfg_alpha, hierarchy=hierarchy,\n\u001b[32m    195\u001b[39m                               order=order, snr=snr, corrector_steps_interval=corrector_steps_interval, corrector_steps=corrector_steps, final_corrector_steps=final_corrector_steps,\n\u001b[32m    196\u001b[39m                               verbose=verbose, method=method, save_trajectory=save_trajectory)\n",
      "\u001b[36mFile \u001b[39m\u001b[32m~/anaconda3/envs/sbi-compass/lib/python3.13/site-packages/compass/Sampler.py:97\u001b[39m, in \u001b[36mSampler.sample\u001b[39m\u001b[34m(self, world_size, data, err, condition_mask, timesteps, eps, num_samples, cfg_alpha, order, snr, corrector_steps_interval, corrector_steps, final_corrector_steps, device, verbose, method, save_trajectory, result_dict)\u001b[39m\n\u001b[32m     95\u001b[39m manager = mp.Manager()\n\u001b[32m     96\u001b[39m result_dict = manager.dict()\n\u001b[32m---> \u001b[39m\u001b[32m97\u001b[39m mp.spawn(\u001b[38;5;28mself\u001b[39m._sample_loop, args=(data, err, condition_mask, num_samples, result_dict), nprocs=\u001b[38;5;28mself\u001b[39m.world_size, join=\u001b[38;5;28;01mTrue\u001b[39;00m)\n\u001b[32m     98\u001b[39m samples = result_dict.get(\u001b[33m'\u001b[39m\u001b[33msamples\u001b[39m\u001b[33m'\u001b[39m, \u001b[38;5;28;01mNone\u001b[39;00m)\n\u001b[32m     99\u001b[39m manager.shutdown()\n",
      "\u001b[36mFile \u001b[39m\u001b[32m~/anaconda3/envs/sbi-compass/lib/python3.13/site-packages/torch/multiprocessing/spawn.py:340\u001b[39m, in \u001b[36mspawn\u001b[39m\u001b[34m(fn, args, nprocs, join, daemon, start_method)\u001b[39m\n\u001b[32m    334\u001b[39m     msg = (\n\u001b[32m    335\u001b[39m         \u001b[33mf\u001b[39m\u001b[33m\"\u001b[39m\u001b[33mThis method only supports start_method=spawn (got: \u001b[39m\u001b[38;5;132;01m{\u001b[39;00mstart_method\u001b[38;5;132;01m}\u001b[39;00m\u001b[33m).\u001b[39m\u001b[38;5;130;01m\\n\u001b[39;00m\u001b[33m\"\u001b[39m\n\u001b[32m    336\u001b[39m         \u001b[33m\"\u001b[39m\u001b[33mTo use a different start_method use:\u001b[39m\u001b[38;5;130;01m\\n\u001b[39;00m\u001b[38;5;130;01m\\t\u001b[39;00m\u001b[38;5;130;01m\\t\u001b[39;00m\u001b[33m\"\u001b[39m\n\u001b[32m    337\u001b[39m         \u001b[33m\"\u001b[39m\u001b[33m torch.multiprocessing.start_processes(...)\u001b[39m\u001b[33m\"\u001b[39m\n\u001b[32m    338\u001b[39m     )\n\u001b[32m    339\u001b[39m     warnings.warn(msg, \u001b[38;5;167;01mFutureWarning\u001b[39;00m, stacklevel=\u001b[32m2\u001b[39m)\n\u001b[32m--> \u001b[39m\u001b[32m340\u001b[39m \u001b[38;5;28;01mreturn\u001b[39;00m start_processes(fn, args, nprocs, join, daemon, start_method=\u001b[33m\"\u001b[39m\u001b[33mspawn\u001b[39m\u001b[33m\"\u001b[39m)\n",
      "\u001b[36mFile \u001b[39m\u001b[32m~/anaconda3/envs/sbi-compass/lib/python3.13/site-packages/torch/multiprocessing/spawn.py:296\u001b[39m, in \u001b[36mstart_processes\u001b[39m\u001b[34m(fn, args, nprocs, join, daemon, start_method)\u001b[39m\n\u001b[32m    293\u001b[39m     \u001b[38;5;28;01mreturn\u001b[39;00m context\n\u001b[32m    295\u001b[39m \u001b[38;5;66;03m# Loop on join until it returns True or raises an exception.\u001b[39;00m\n\u001b[32m--> \u001b[39m\u001b[32m296\u001b[39m \u001b[38;5;28;01mwhile\u001b[39;00m \u001b[38;5;129;01mnot\u001b[39;00m context.join():\n\u001b[32m    297\u001b[39m     \u001b[38;5;28;01mpass\u001b[39;00m\n",
      "\u001b[36mFile \u001b[39m\u001b[32m~/anaconda3/envs/sbi-compass/lib/python3.13/site-packages/torch/multiprocessing/spawn.py:215\u001b[39m, in \u001b[36mProcessContext.join\u001b[39m\u001b[34m(self, timeout, grace_period)\u001b[39m\n\u001b[32m    213\u001b[39m msg = \u001b[33mf\u001b[39m\u001b[33m\"\u001b[39m\u001b[38;5;130;01m\\n\u001b[39;00m\u001b[38;5;130;01m\\n\u001b[39;00m\u001b[33m-- Process \u001b[39m\u001b[38;5;132;01m{\u001b[39;00merror_index\u001b[38;5;132;01m:\u001b[39;00m\u001b[33md\u001b[39m\u001b[38;5;132;01m}\u001b[39;00m\u001b[33m terminated with the following error:\u001b[39m\u001b[38;5;130;01m\\n\u001b[39;00m\u001b[33m\"\u001b[39m\n\u001b[32m    214\u001b[39m msg += original_trace\n\u001b[32m--> \u001b[39m\u001b[32m215\u001b[39m \u001b[38;5;28;01mraise\u001b[39;00m ProcessRaisedException(msg, error_index, failed_process.pid)\n",
      "\u001b[31mProcessRaisedException\u001b[39m: \n\n-- Process 6 terminated with the following error:\nTraceback (most recent call last):\n  File \"/export/home/bguenes/anaconda3/envs/sbi-compass/lib/python3.13/site-packages/torch/multiprocessing/spawn.py\", line 90, in _wrap\n    fn(i, *args)\n    ~~^^^^^^^^^^\n  File \"/export/home/bguenes/anaconda3/envs/sbi-compass/lib/python3.13/site-packages/compass/Sampler.py\", line 115, in _sample_loop\n    self._ddp_setup(rank, self.world_size)\n    ~~~~~~~~~~~~~~~^^^^^^^^^^^^^^^^^^^^^^^\n  File \"/export/home/bguenes/anaconda3/envs/sbi-compass/lib/python3.13/site-packages/compass/Sampler.py\", line 184, in _ddp_setup\n    self.model = DDP(self.SBIm.model, device_ids=[rank])\n                 ~~~^^^^^^^^^^^^^^^^^^^^^^^^^^^^^^^^^^^^\n  File \"/export/home/bguenes/anaconda3/envs/sbi-compass/lib/python3.13/site-packages/torch/nn/parallel/distributed.py\", line 835, in __init__\n    _verify_param_shape_across_processes(self.process_group, parameters)\n    ~~~~~~~~~~~~~~~~~~~~~~~~~~~~~~~~~~~~^^^^^^^^^^^^^^^^^^^^^^^^^^^^^^^^\n  File \"/export/home/bguenes/anaconda3/envs/sbi-compass/lib/python3.13/site-packages/torch/distributed/utils.py\", line 282, in _verify_param_shape_across_processes\n    return dist._verify_params_across_processes(process_group, tensors, logger)\n           ~~~~~~~~~~~~~~~~~~~~~~~~~~~~~~~~~~~~^^^^^^^^^^^^^^^^^^^^^^^^^^^^^^^^\ntorch.distributed.DistBackendError: NCCL error in: /pytorch/torch/csrc/distributed/c10d/NCCLUtils.cpp:77, unhandled cuda error (run with NCCL_DEBUG=INFO for details), NCCL version 2.26.2\nncclUnhandledCudaError: Call to CUDA function failed.\nLast error:\nCuda failure 'out of memory'\n"
     ]
    }
   ],
   "source": [
    "MTf.compare(x=data, err=data_std, condition_mask=condition_mask, device=\"cuda\")"
   ]
  },
  {
   "cell_type": "code",
   "execution_count": null,
   "id": "5d3b63d4",
   "metadata": {},
   "outputs": [],
   "source": []
  }
 ],
 "metadata": {
  "kernelspec": {
   "display_name": "sbi-compass",
   "language": "python",
   "name": "python3"
  },
  "language_info": {
   "codemirror_mode": {
    "name": "ipython",
    "version": 3
   },
   "file_extension": ".py",
   "mimetype": "text/x-python",
   "name": "python",
   "nbconvert_exporter": "python",
   "pygments_lexer": "ipython3",
   "version": "3.13.2"
  }
 },
 "nbformat": 4,
 "nbformat_minor": 5
}
