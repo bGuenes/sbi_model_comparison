{
 "cells": [
  {
   "cell_type": "code",
   "execution_count": 1,
   "metadata": {},
   "outputs": [],
   "source": [
    "import os\n",
    "#os.environ['CUDA_VISIBLE_DEVICES'] = '2,3,4,7'"
   ]
  },
  {
   "cell_type": "code",
   "execution_count": 2,
   "metadata": {},
   "outputs": [],
   "source": [
    "from src.ModelTransfuser import ModelTransfuser as MTf\n",
    "\n",
    "import matplotlib.pyplot as plt\n",
    "import seaborn as sns\n",
    "\n",
    "import numpy as np\n",
    "import torch\n",
    "\n",
    "from scipy.stats import norm, gaussian_kde\n",
    "from scipy import optimize\n",
    "\n",
    "import os\n",
    "\n",
    "%matplotlib inline"
   ]
  },
  {
   "cell_type": "markdown",
   "metadata": {},
   "source": [
    "# Load data"
   ]
  },
  {
   "cell_type": "code",
   "execution_count": 3,
   "metadata": {},
   "outputs": [],
   "source": [
    "data_model = \"842\""
   ]
  },
  {
   "cell_type": "code",
   "execution_count": 4,
   "metadata": {},
   "outputs": [],
   "source": [
    "# --- Clean the data ---\n",
    "# Chempy sometimes returns zeros or infinite values, which need to removed\n",
    "def clean_data(x, y):\n",
    "    # Remove all zeros from the training data\n",
    "    index = np.where((y == 0).all(axis=1))[0]\n",
    "    x = np.delete(x, index, axis=0)\n",
    "    y = np.delete(y, index, axis=0)\n",
    "\n",
    "    # Remove all infinite values from the training data\n",
    "    index = np.where(np.isfinite(y).all(axis=1))[0]\n",
    "    x = x[index]\n",
    "    y = y[index]\n",
    "\n",
    "    # Remove H from Elements\n",
    "    y = np.delete(y, 2, 1)\n",
    "\n",
    "    return x, y"
   ]
  },
  {
   "cell_type": "code",
   "execution_count": 5,
   "metadata": {},
   "outputs": [],
   "source": [
    "# ---  Load in the validation data ---\n",
    "path_test = os.getcwd() + f'/data/Chempy_model_comp_data/chempy_{data_model}_val.npz'\n",
    "val_data = np.load(path_test, mmap_mode='r')\n",
    "\n",
    "val_x = val_data['params']\n",
    "val_y = val_data['abundances']\n",
    "\n",
    "val_x, val_y = clean_data(val_x, val_y)\n",
    "\n",
    "# convert to torch tensors\n",
    "val_x = torch.tensor(val_x, dtype=torch.float32)\n",
    "val_y = torch.tensor(val_y, dtype=torch.float32)\n",
    "\n",
    "# --- add noise ---\n",
    "pc_ab = 5 # percentage error in abundance\n",
    "\n",
    "val_y_err = torch.ones_like(val_y)*float(pc_ab)/100.\n",
    "val_y = norm.rvs(loc=val_y,scale=val_y_err)\n",
    "val_y = torch.tensor(val_y).float()\n",
    "\n",
    "val_data = torch.cat((val_x, val_y), 1)"
   ]
  },
  {
   "cell_type": "markdown",
   "metadata": {},
   "source": [
    "## Define ModelTransfuser"
   ]
  },
  {
   "cell_type": "code",
   "execution_count": 6,
   "metadata": {},
   "outputs": [],
   "source": [
    "# Define the ModelTransfuser\n",
    "model_442 = MTf.load('data/models/chempy_442/Model_checkpoint.pt')\n",
    "model_742 = MTf.load('data/models/chempy_742/Model_checkpoint.pt')\n",
    "model_842 = MTf.load('data/models/chempy_842/Model_checkpoint.pt')"
   ]
  },
  {
   "cell_type": "markdown",
   "metadata": {},
   "source": [
    "## Sampling"
   ]
  },
  {
   "cell_type": "code",
   "execution_count": 7,
   "metadata": {},
   "outputs": [],
   "source": [
    "posterior_mask = torch.zeros_like(val_data[0])\n",
    "posterior_mask[6:] = 1\n",
    "\n",
    "data = val_data[:1000, posterior_mask.type(torch.bool)]"
   ]
  },
  {
   "cell_type": "code",
   "execution_count": 8,
   "metadata": {},
   "outputs": [],
   "source": [
    "test_index=1"
   ]
  },
  {
   "cell_type": "code",
   "execution_count": 9,
   "metadata": {},
   "outputs": [
    {
     "name": "stderr",
     "output_type": "stream",
     "text": [
      "100%|██████████| 1/1 [00:01<00:00,  1.87s/it]\n",
      "100%|██████████| 1/1 [00:01<00:00,  1.72s/it]\n",
      "100%|██████████| 1/1 [00:01<00:00,  1.75s/it]\n"
     ]
    }
   ],
   "source": [
    "posterior_442 = model_442.sample(data[test_index], condition_mask=posterior_mask, device=\"cuda:0\", timesteps=100, cfg_alpha=None, save_trajectory=True, corrector_steps=5, corrector_steps_interval=5, final_corrector_steps=10).to(\"cpu\")\n",
    "posterior_742 = model_742.sample(data[test_index], condition_mask=posterior_mask, device=\"cuda:0\", timesteps=100, cfg_alpha=None, save_trajectory=True, corrector_steps=5, corrector_steps_interval=5, final_corrector_steps=10).to(\"cpu\")\n",
    "posterior_842 = model_842.sample(data[test_index], condition_mask=posterior_mask, device=\"cuda:0\", timesteps=100, cfg_alpha=None, save_trajectory=True, corrector_steps=5, corrector_steps_interval=5, final_corrector_steps=10).to(\"cpu\")"
   ]
  },
  {
   "cell_type": "code",
   "execution_count": 10,
   "metadata": {},
   "outputs": [],
   "source": [
    "theta_hat_442 = posterior_442.mean(dim=1)[:,:6]\n",
    "theta_hat_742 = posterior_742.mean(dim=1)[:,:6]\n",
    "theta_hat_842 = posterior_842.mean(dim=1)[:,:6]"
   ]
  },
  {
   "cell_type": "code",
   "execution_count": 11,
   "metadata": {},
   "outputs": [
    {
     "name": "stdout",
     "output_type": "stream",
     "text": [
      "Ground Truth: tensor([-2.6000, -3.0300, -0.2485,  0.5487,  0.6439,  4.7983])\n",
      "Model 442: tensor([[-2.4927, -3.2242, -0.1933,  0.5822,  0.5195,  3.3998]])\n",
      "Model 742: tensor([[-1.6766, -3.3914, -0.1068,  0.6421,  0.5726,  3.3389]])\n",
      "Model 842: tensor([[-2.5692, -2.9983, -0.3979,  0.5642,  0.5260,  4.3287]])\n"
     ]
    }
   ],
   "source": [
    "print(f\"Ground Truth: {val_data[test_index,:6]}\")\n",
    "print(f\"Model 442: {theta_hat_442}\")\n",
    "print(f\"Model 742: {theta_hat_742}\")\n",
    "print(f\"Model 842: {theta_hat_842}\")"
   ]
  },
  {
   "cell_type": "code",
   "execution_count": 12,
   "metadata": {},
   "outputs": [],
   "source": [
    "likelihood_mask = torch.zeros_like(val_data[0])\n",
    "likelihood_mask[:6] = 1"
   ]
  },
  {
   "cell_type": "code",
   "execution_count": 13,
   "metadata": {},
   "outputs": [
    {
     "name": "stderr",
     "output_type": "stream",
     "text": [
      "100%|██████████| 1/1 [00:01<00:00,  1.73s/it]\n",
      "100%|██████████| 1/1 [00:01<00:00,  1.70s/it]\n",
      "100%|██████████| 1/1 [00:01<00:00,  1.71s/it]\n"
     ]
    }
   ],
   "source": [
    "likelihood_442 = model_442.sample(theta_hat_442, condition_mask=likelihood_mask, device=\"cuda:0\", timesteps=100, cfg_alpha=None, save_trajectory=True, corrector_steps=5, corrector_steps_interval=5, final_corrector_steps=10).to(\"cpu\")\n",
    "likelihood_742 = model_742.sample(theta_hat_742, condition_mask=likelihood_mask, device=\"cuda:0\", timesteps=100, cfg_alpha=None, save_trajectory=True, corrector_steps=5, corrector_steps_interval=5, final_corrector_steps=10).to(\"cpu\")\n",
    "likelihood_842 = model_842.sample(theta_hat_842, condition_mask=likelihood_mask, device=\"cuda:0\", timesteps=100, cfg_alpha=None, save_trajectory=True, corrector_steps=5, corrector_steps_interval=5, final_corrector_steps=10).to(\"cpu\")"
   ]
  },
  {
   "cell_type": "code",
   "execution_count": 14,
   "metadata": {},
   "outputs": [],
   "source": [
    "x_hat_442 = likelihood_442.mean(dim=1)[:,6:]\n",
    "x_hat_742 = likelihood_742.mean(dim=1)[:,6:]\n",
    "x_hat_842 = likelihood_842.mean(dim=1)[:,6:]"
   ]
  },
  {
   "cell_type": "code",
   "execution_count": 15,
   "metadata": {},
   "outputs": [
    {
     "name": "stdout",
     "output_type": "stream",
     "text": [
      "Ground Truth: tensor([ 0.0819, -0.5307,  0.4654,  0.3000,  0.3074,  0.3703,  0.4098,  0.4402])\n",
      "Model 442: tensor([[ 0.2086, -0.3852,  0.3975,  0.1628,  0.2034,  0.5245,  0.3849,  0.2844]])\n",
      "Model 742: tensor([[-0.0600, -0.2195,  0.3048, -0.0178,  0.2267,  0.1952,  0.3454,  0.2704]])\n",
      "Model 842: tensor([[-0.0087, -0.5164,  0.5212,  0.2097,  0.2341,  0.4781,  0.3287,  0.2987]])\n"
     ]
    }
   ],
   "source": [
    "print(f\"Ground Truth: {val_data[test_index,6:]}\")\n",
    "print(f\"Model 442: {x_hat_442}\")\n",
    "print(f\"Model 742: {x_hat_742}\")\n",
    "print(f\"Model 842: {x_hat_842}\")"
   ]
  },
  {
   "cell_type": "code",
   "execution_count": 16,
   "metadata": {},
   "outputs": [],
   "source": [
    "likelihood_fn_442 = gaussian_kde(likelihood_442[0,:,6:].T.cpu().numpy())\n",
    "likelihood_fn_742 = gaussian_kde(likelihood_742[0,:,6:].T.cpu().numpy())\n",
    "likelihood_fn_842 = gaussian_kde(likelihood_842[0,:,6:].T.cpu().numpy())"
   ]
  },
  {
   "cell_type": "code",
   "execution_count": 17,
   "metadata": {},
   "outputs": [
    {
     "data": {
      "text/plain": [
       "array([157.77525158])"
      ]
     },
     "execution_count": 17,
     "metadata": {},
     "output_type": "execute_result"
    }
   ],
   "source": [
    "likelihood_fn_442.pdf(data[test_index])"
   ]
  },
  {
   "cell_type": "code",
   "execution_count": 18,
   "metadata": {},
   "outputs": [
    {
     "data": {
      "text/plain": [
       "array([15.39868265])"
      ]
     },
     "execution_count": 18,
     "metadata": {},
     "output_type": "execute_result"
    }
   ],
   "source": [
    "likelihood_fn_742.pdf(data[test_index])"
   ]
  },
  {
   "cell_type": "code",
   "execution_count": 19,
   "metadata": {},
   "outputs": [
    {
     "data": {
      "text/plain": [
       "array([586.79256383])"
      ]
     },
     "execution_count": 19,
     "metadata": {},
     "output_type": "execute_result"
    }
   ],
   "source": [
    "likelihood_fn_842.pdf(data[test_index])"
   ]
  }
 ],
 "metadata": {
  "kernelspec": {
   "display_name": "simformer_torch",
   "language": "python",
   "name": "python3"
  },
  "language_info": {
   "codemirror_mode": {
    "name": "ipython",
    "version": 3
   },
   "file_extension": ".py",
   "mimetype": "text/x-python",
   "name": "python",
   "nbconvert_exporter": "python",
   "pygments_lexer": "ipython3",
   "version": "3.10.14"
  }
 },
 "nbformat": 4,
 "nbformat_minor": 2
}
