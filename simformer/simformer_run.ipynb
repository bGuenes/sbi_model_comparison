{
 "cells": [
  {
   "cell_type": "code",
   "execution_count": 1,
   "metadata": {},
   "outputs": [],
   "source": [
    "from simformer import *\n",
    "import matplotlib.pyplot as plt\n",
    "import matplotlib.animation\n",
    "\n",
    "import numpy as np\n",
    "import torch\n",
    "\n",
    "%matplotlib inline"
   ]
  },
  {
   "cell_type": "code",
   "execution_count": 2,
   "metadata": {},
   "outputs": [],
   "source": [
    "# Load data\n",
    "x = np.load(\"data/x.npy\")\n",
    "theta = np.load(\"data/theta.npy\")\n",
    "\n",
    "data = torch.tensor(np.concatenate([theta, x], axis=1), dtype=torch.float32)"
   ]
  },
  {
   "cell_type": "code",
   "execution_count": 3,
   "metadata": {},
   "outputs": [
    {
     "name": "stderr",
     "output_type": "stream",
     "text": [
      "/Users/bguenes/miniconda3/envs/simformer/lib/python3.12/site-packages/torch/nn/modules/transformer.py:307: UserWarning: enable_nested_tensor is True, but self.use_nested_tensor is False because encoder_layer.self_attn.batch_first was not True(use batch_first for better inference performance)\n",
      "  warnings.warn(f\"enable_nested_tensor is True, but self.use_nested_tensor is False because {why_not_sparsity_fast_path}\")\n"
     ]
    }
   ],
   "source": [
    "# Define beta schedule\n",
    "T = 300\n",
    "\n",
    "simformer = Simformer(T, data.shape)"
   ]
  },
  {
   "cell_type": "markdown",
   "metadata": {},
   "source": [
    "# Animate Diffusion Process\n",
    "Diffusion process to create the data for score training."
   ]
  },
  {
   "cell_type": "code",
   "execution_count": null,
   "metadata": {},
   "outputs": [],
   "source": [
    "plt.rcParams[\"animation.html\"] = \"jshtml\"\n",
    "plt.rcParams['figure.dpi'] = 150  \n",
    "plt.ioff()\n",
    "fig, ax = plt.subplots()\n",
    "\n",
    "t = torch.linspace(0, 1, T)\n",
    "color = ['red', 'blue', 'green', 'purple', 'orange', 'black']\n",
    "\n",
    "def animate(i):\n",
    "    data_t = simformer.forward_diffusion_sample(data[:,:6], t[i])\n",
    "    plt.cla()\n",
    "    for n in range(data_t.shape[1]):\n",
    "        plt.hist(data_t[:,n], bins=500, range=(-5,15), density=True, alpha=0.5, color=color[n])\n",
    "    plt.xlim([-5,15])\n",
    "    plt.ylim([0,1])\n",
    "    plt.title(f\"t={int(i)}\")\n",
    "   \n",
    "ani = matplotlib.animation.FuncAnimation(fig, animate, frames=299)\n",
    "\n",
    "writer = matplotlib.animation.PillowWriter(fps=20,\n",
    "                                metadata=dict(artist='Me'),\n",
    "                                bitrate=1800)\n",
    "ani.save('plots/theta_to_noise.gif', writer=writer)"
   ]
  },
  {
   "cell_type": "code",
   "execution_count": null,
   "metadata": {},
   "outputs": [],
   "source": [
    "plt.rcParams[\"animation.html\"] = \"jshtml\"\n",
    "plt.rcParams['figure.dpi'] = 150  \n",
    "plt.ioff()\n",
    "fig, ax = plt.subplots()\n",
    "\n",
    "t = torch.linspace(0, 1, T)\n",
    "\n",
    "def animate2(i):\n",
    "    data_t = simformer.forward_diffusion_sample(data[:,7:], t[i])\n",
    "    plt.cla()\n",
    "    for n in range(data_t.shape[1]):\n",
    "        plt.hist(data_t[:,n], bins=500, range=(-2,2), density=True, alpha=0.5)\n",
    "    plt.xlim([-2,2])\n",
    "    plt.ylim([0,2.5])\n",
    "    plt.title(f\"t={int(i)}\")\n",
    "\n",
    "ani2 = matplotlib.animation.FuncAnimation(fig, animate2, frames=299) \n",
    "\n",
    "writer = matplotlib.animation.PillowWriter(fps=20,\n",
    "                                metadata=dict(artist='Me'),\n",
    "                                bitrate=1800)\n",
    "ani2.save('plots/x_to_noise.gif', writer=writer)"
   ]
  },
  {
   "cell_type": "markdown",
   "metadata": {},
   "source": [
    "# Transformer forward pass"
   ]
  },
  {
   "cell_type": "code",
   "execution_count": 7,
   "metadata": {},
   "outputs": [],
   "source": [
    "score = simformer.forward(data[:10], torch.ones(data[:10].shape[0],1)*10, condition_mask=torch.ones_like(data[:10]))"
   ]
  },
  {
   "cell_type": "code",
   "execution_count": 9,
   "metadata": {},
   "outputs": [
    {
     "data": {
      "text/plain": [
       "torch.Size([10, 14, 1])"
      ]
     },
     "execution_count": 9,
     "metadata": {},
     "output_type": "execute_result"
    }
   ],
   "source": [
    "score.shape"
   ]
  },
  {
   "cell_type": "code",
   "execution_count": 8,
   "metadata": {},
   "outputs": [
    {
     "data": {
      "text/plain": [
       "tensor([[[-9.0618e-13],\n",
       "         [ 6.4414e-13],\n",
       "         [ 3.2446e-13],\n",
       "         [ 4.0942e-13],\n",
       "         [-1.0080e-12],\n",
       "         [-9.0439e-13],\n",
       "         [-7.9581e-13],\n",
       "         [-1.2026e-13],\n",
       "         [-1.9742e-12],\n",
       "         [ 2.4650e-12],\n",
       "         [ 4.6188e-13],\n",
       "         [ 1.8303e-13],\n",
       "         [-4.0708e-13],\n",
       "         [ 5.5824e-13]],\n",
       "\n",
       "        [[-1.0778e-12],\n",
       "         [ 2.0014e-12],\n",
       "         [ 6.8025e-13],\n",
       "         [-8.0585e-13],\n",
       "         [-2.3023e-12],\n",
       "         [ 2.0177e-15],\n",
       "         [-2.8549e-13],\n",
       "         [-3.1988e-13],\n",
       "         [-5.2332e-13],\n",
       "         [-7.1850e-13],\n",
       "         [-1.2432e-12],\n",
       "         [-4.5419e-13],\n",
       "         [-2.0423e-13],\n",
       "         [ 1.3681e-12]],\n",
       "\n",
       "        [[ 8.4006e-13],\n",
       "         [ 9.2883e-13],\n",
       "         [ 4.6249e-13],\n",
       "         [-1.4946e-12],\n",
       "         [-1.9628e-12],\n",
       "         [-5.3577e-13],\n",
       "         [-2.2522e-13],\n",
       "         [ 5.3355e-14],\n",
       "         [-8.4852e-13],\n",
       "         [ 1.5093e-13],\n",
       "         [ 1.9012e-13],\n",
       "         [-6.2410e-14],\n",
       "         [-5.2528e-13],\n",
       "         [ 1.6524e-12]],\n",
       "\n",
       "        [[ 1.1828e-12],\n",
       "         [-2.4664e-13],\n",
       "         [ 1.5027e-12],\n",
       "         [ 1.7047e-15],\n",
       "         [-1.0555e-12],\n",
       "         [-7.6448e-13],\n",
       "         [-3.4136e-13],\n",
       "         [ 6.9998e-13],\n",
       "         [ 1.6099e-13],\n",
       "         [ 4.5653e-13],\n",
       "         [ 1.2219e-12],\n",
       "         [ 1.6865e-12],\n",
       "         [ 3.9649e-13],\n",
       "         [ 1.4114e-12]],\n",
       "\n",
       "        [[ 1.4407e-12],\n",
       "         [-2.2139e-13],\n",
       "         [ 1.7571e-12],\n",
       "         [ 1.0695e-12],\n",
       "         [-3.9301e-13],\n",
       "         [-3.0610e-13],\n",
       "         [ 8.9356e-13],\n",
       "         [ 7.5351e-13],\n",
       "         [ 6.7233e-13],\n",
       "         [ 5.5744e-13],\n",
       "         [ 2.6908e-13],\n",
       "         [ 1.8229e-12],\n",
       "         [-6.8898e-13],\n",
       "         [ 1.9588e-12]],\n",
       "\n",
       "        [[ 1.6479e-13],\n",
       "         [ 8.1868e-13],\n",
       "         [ 1.7189e-12],\n",
       "         [ 9.8722e-13],\n",
       "         [-2.0778e-13],\n",
       "         [ 5.2992e-13],\n",
       "         [ 1.6842e-15],\n",
       "         [-1.2930e-13],\n",
       "         [ 1.0319e-12],\n",
       "         [ 4.6472e-13],\n",
       "         [ 9.7665e-14],\n",
       "         [-3.9704e-13],\n",
       "         [-6.9559e-13],\n",
       "         [ 1.0154e-12]],\n",
       "\n",
       "        [[ 2.8807e-13],\n",
       "         [ 1.2425e-12],\n",
       "         [ 1.5879e-12],\n",
       "         [-4.3965e-13],\n",
       "         [-2.0987e-12],\n",
       "         [-6.5892e-13],\n",
       "         [-2.5106e-13],\n",
       "         [ 7.5040e-13],\n",
       "         [ 1.2663e-12],\n",
       "         [ 5.3197e-13],\n",
       "         [ 3.3891e-13],\n",
       "         [-4.4331e-13],\n",
       "         [ 6.8214e-13],\n",
       "         [ 1.0406e-12]],\n",
       "\n",
       "        [[ 1.1224e-12],\n",
       "         [-2.8636e-13],\n",
       "         [ 1.5697e-12],\n",
       "         [-1.4343e-13],\n",
       "         [-9.0762e-13],\n",
       "         [-1.3831e-12],\n",
       "         [-1.5173e-12],\n",
       "         [ 4.7164e-13],\n",
       "         [ 1.1545e-13],\n",
       "         [ 1.3793e-12],\n",
       "         [-1.3164e-13],\n",
       "         [-4.0176e-14],\n",
       "         [-6.9789e-13],\n",
       "         [ 1.2337e-12]],\n",
       "\n",
       "        [[-8.1272e-13],\n",
       "         [ 3.8260e-13],\n",
       "         [ 2.0513e-12],\n",
       "         [ 1.3537e-12],\n",
       "         [-9.9142e-13],\n",
       "         [-9.8852e-13],\n",
       "         [-1.6416e-12],\n",
       "         [-3.9319e-13],\n",
       "         [ 1.2496e-12],\n",
       "         [ 4.8189e-13],\n",
       "         [ 6.3820e-13],\n",
       "         [ 2.3137e-12],\n",
       "         [-8.8375e-14],\n",
       "         [ 1.1107e-12]],\n",
       "\n",
       "        [[-6.7253e-13],\n",
       "         [ 1.4552e-13],\n",
       "         [ 2.6710e-13],\n",
       "         [-4.0693e-13],\n",
       "         [-2.3717e-12],\n",
       "         [-1.0713e-12],\n",
       "         [-9.6367e-13],\n",
       "         [-6.0294e-13],\n",
       "         [ 1.1122e-12],\n",
       "         [ 7.6536e-13],\n",
       "         [-1.0984e-12],\n",
       "         [ 6.8263e-13],\n",
       "         [-1.2430e-12],\n",
       "         [ 1.4004e-12]]], grad_fn=<ViewBackward0>)"
      ]
     },
     "execution_count": 8,
     "metadata": {},
     "output_type": "execute_result"
    }
   ],
   "source": [
    "score"
   ]
  }
 ],
 "metadata": {
  "kernelspec": {
   "display_name": "simformer",
   "language": "python",
   "name": "python3"
  },
  "language_info": {
   "codemirror_mode": {
    "name": "ipython",
    "version": 3
   },
   "file_extension": ".py",
   "mimetype": "text/x-python",
   "name": "python",
   "nbconvert_exporter": "python",
   "pygments_lexer": "ipython3",
   "version": "3.12.6"
  }
 },
 "nbformat": 4,
 "nbformat_minor": 2
}
