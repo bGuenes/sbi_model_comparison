{
 "cells": [
  {
   "cell_type": "code",
   "execution_count": 1,
   "metadata": {},
   "outputs": [],
   "source": [
    "from simformer import *\n",
    "import matplotlib.pyplot as plt\n",
    "import matplotlib.animation\n",
    "\n",
    "import numpy as np\n",
    "import torch\n",
    "\n",
    "%matplotlib inline"
   ]
  },
  {
   "cell_type": "code",
   "execution_count": 2,
   "metadata": {},
   "outputs": [],
   "source": [
    "# Load data\n",
    "x = np.load(\"data/x.npy\")\n",
    "theta = np.load(\"data/theta.npy\")\n",
    "\n",
    "data = torch.tensor(np.concatenate([theta, x], axis=1), dtype=torch.float32)"
   ]
  },
  {
   "cell_type": "code",
   "execution_count": 3,
   "metadata": {},
   "outputs": [
    {
     "name": "stderr",
     "output_type": "stream",
     "text": [
      "/Users/bguenes/miniconda3/envs/simformer/lib/python3.12/site-packages/torch/nn/modules/transformer.py:307: UserWarning: enable_nested_tensor is True, but self.use_nested_tensor is False because encoder_layer.self_attn.batch_first was not True(use batch_first for better inference performance)\n",
      "  warnings.warn(f\"enable_nested_tensor is True, but self.use_nested_tensor is False because {why_not_sparsity_fast_path}\")\n"
     ]
    }
   ],
   "source": [
    "# Define beta schedule\n",
    "T = 300\n",
    "t = torch.linspace(0, 1, T)\n",
    "\n",
    "simformer = Simformer(T, data.shape)"
   ]
  },
  {
   "cell_type": "code",
   "execution_count": 4,
   "metadata": {},
   "outputs": [],
   "source": [
    "simformer.sde.sigma = 25"
   ]
  },
  {
   "cell_type": "code",
   "execution_count": 5,
   "metadata": {},
   "outputs": [
    {
     "data": {
      "image/png": "[encoded data removed]",
      "text/plain": [
       "<Figure size 640x480 with 1 Axes>"
      ]
     },
     "metadata": {},
     "output_type": "display_data"
    }
   ],
   "source": [
    "plt.plot(t, simformer.sde.marginal_prob_std(t))\n",
    "plt.title(\"Marginal probability standard deviation\")\n",
    "plt.xlabel(\"Time\")\n",
    "plt.show()"
   ]
  },
  {
   "cell_type": "markdown",
   "metadata": {},
   "source": [
    "# Animate Diffusion Process\n",
    "Diffusion process to create the data for score training."
   ]
  },
  {
   "cell_type": "code",
   "execution_count": 6,
   "metadata": {},
   "outputs": [],
   "source": [
    "plt.rcParams[\"animation.html\"] = \"jshtml\"\n",
    "plt.rcParams['figure.dpi'] = 150  \n",
    "plt.ioff()\n",
    "fig, ax = plt.subplots()\n",
    "\n",
    "t = torch.linspace(0, 1, T)\n",
    "color = ['red', 'blue', 'green', 'purple', 'orange', 'black']\n",
    "\n",
    "def animate(i):\n",
    "    data_t = simformer.forward_diffusion_sample(data[:,:6], t[i])\n",
    "    plt.cla()\n",
    "    for n in range(data_t.shape[1]):\n",
    "        plt.hist(data_t[:,n], bins=500, range=(-5,15), density=True, alpha=0.5, color=color[n])\n",
    "    plt.xlim([-5,15])\n",
    "    plt.ylim([0,1])\n",
    "    plt.title(f\"t={int(i)}\")\n",
    "\n",
    "\n",
    "ani = matplotlib.animation.FuncAnimation(fig, animate, frames=299)\n",
    "\n",
    "writer = matplotlib.animation.PillowWriter(fps=20,\n",
    "                                metadata=dict(artist='Me'),\n",
    "                                bitrate=1800)\n",
    "ani.save('../plots/theta_to_noise.gif', writer=writer)\n"
   ]
  },
  {
   "cell_type": "code",
   "execution_count": 7,
   "metadata": {},
   "outputs": [],
   "source": [
    "plt.rcParams[\"animation.html\"] = \"jshtml\"\n",
    "plt.rcParams['figure.dpi'] = 150  \n",
    "plt.ioff()\n",
    "fig, ax = plt.subplots()\n",
    "\n",
    "t = torch.linspace(0, 1, T)\n",
    "\n",
    "def animate2(i):\n",
    "    data_t = simformer.forward_diffusion_sample(data[:,7:], t[i])\n",
    "    plt.cla()\n",
    "    for n in range(data_t.shape[1]):\n",
    "        plt.hist(data_t[:,n], bins=500, range=(-2,2), density=True, alpha=0.5)\n",
    "    plt.xlim([-2,2])\n",
    "    plt.ylim([0,2.5])\n",
    "    plt.title(f\"t={int(i)}\")\n",
    "\n",
    "ani2 = matplotlib.animation.FuncAnimation(fig, animate2, frames=299) \n",
    "\n",
    "writer = matplotlib.animation.PillowWriter(fps=20,\n",
    "                                metadata=dict(artist='Me'),\n",
    "                                bitrate=1800)\n",
    "ani2.save('../plots/x_to_noise.gif', writer=writer)"
   ]
  },
  {
   "cell_type": "markdown",
   "metadata": {},
   "source": [
    "# Transformer forward pass"
   ]
  },
  {
   "cell_type": "code",
   "execution_count": 9,
   "metadata": {},
   "outputs": [],
   "source": [
    "score = simformer.forward_transformer(data[:10], torch.ones(data[:10].shape[0],1)*10, condition_mask=torch.ones_like(data[:10]))"
   ]
  },
  {
   "cell_type": "code",
   "execution_count": 10,
   "metadata": {},
   "outputs": [
    {
     "data": {
      "text/plain": [
       "torch.Size([10, 14, 1])"
      ]
     },
     "execution_count": 10,
     "metadata": {},
     "output_type": "execute_result"
    }
   ],
   "source": [
    "score.shape"
   ]
  },
  {
   "cell_type": "code",
   "execution_count": 11,
   "metadata": {},
   "outputs": [
    {
     "data": {
      "text/plain": [
       "tensor([[[ 2.5448e+13],\n",
       "         [ 2.3418e+12],\n",
       "         [ 1.2244e+13],\n",
       "         [ 3.2735e+12],\n",
       "         [ 4.9857e+12],\n",
       "         [-8.4620e+12],\n",
       "         [-4.1683e+12],\n",
       "         [-7.4208e+12],\n",
       "         [ 1.4981e+12],\n",
       "         [ 4.1489e+12],\n",
       "         [-8.0714e+12],\n",
       "         [ 6.2548e+12],\n",
       "         [-1.9152e+13],\n",
       "         [ 3.2424e+13]],\n",
       "\n",
       "        [[ 1.2891e+13],\n",
       "         [ 2.2417e+13],\n",
       "         [ 1.7906e+13],\n",
       "         [ 1.2200e+13],\n",
       "         [ 3.6541e+13],\n",
       "         [ 1.5420e+13],\n",
       "         [-1.3469e+13],\n",
       "         [ 1.8591e+13],\n",
       "         [ 2.2453e+13],\n",
       "         [ 2.7268e+12],\n",
       "         [-7.2282e+11],\n",
       "         [ 1.2289e+13],\n",
       "         [-1.2040e+13],\n",
       "         [ 1.0638e+13]],\n",
       "\n",
       "        [[ 2.3900e+13],\n",
       "         [ 3.7485e+13],\n",
       "         [ 2.5699e+13],\n",
       "         [ 1.3094e+13],\n",
       "         [ 1.1130e+13],\n",
       "         [-6.0298e+12],\n",
       "         [-2.5444e+12],\n",
       "         [ 2.2622e+12],\n",
       "         [ 1.3779e+13],\n",
       "         [ 1.9784e+13],\n",
       "         [ 9.4148e+12],\n",
       "         [ 4.7639e+12],\n",
       "         [ 6.7846e+12],\n",
       "         [ 1.6653e+13]],\n",
       "\n",
       "        [[ 2.1264e+13],\n",
       "         [ 1.0266e+13],\n",
       "         [ 1.6175e+13],\n",
       "         [ 3.6871e+11],\n",
       "         [ 1.5627e+13],\n",
       "         [-2.3243e+13],\n",
       "         [-8.5240e+12],\n",
       "         [ 2.3828e+13],\n",
       "         [ 1.4663e+13],\n",
       "         [ 1.3002e+13],\n",
       "         [ 2.3671e+12],\n",
       "         [ 8.7842e+11],\n",
       "         [-6.4907e+12],\n",
       "         [ 1.7259e+13]],\n",
       "\n",
       "        [[ 3.0563e+13],\n",
       "         [ 9.8879e+12],\n",
       "         [ 2.1878e+13],\n",
       "         [ 1.4517e+13],\n",
       "         [ 1.5919e+13],\n",
       "         [ 1.7212e+12],\n",
       "         [ 3.8220e+12],\n",
       "         [-3.0451e+12],\n",
       "         [-1.3912e+12],\n",
       "         [ 4.2971e+12],\n",
       "         [-1.2739e+12],\n",
       "         [ 9.4269e+12],\n",
       "         [ 8.6883e+12],\n",
       "         [-7.8103e+12]],\n",
       "\n",
       "        [[ 2.0615e+13],\n",
       "         [ 9.0432e+12],\n",
       "         [ 1.4814e+13],\n",
       "         [ 1.8402e+13],\n",
       "         [ 1.1296e+13],\n",
       "         [-1.0269e+13],\n",
       "         [-7.3805e+12],\n",
       "         [ 1.0818e+13],\n",
       "         [-5.1476e+12],\n",
       "         [ 6.0841e+10],\n",
       "         [-5.5822e+12],\n",
       "         [ 1.2751e+13],\n",
       "         [ 3.0617e+12],\n",
       "         [ 4.4075e+12]],\n",
       "\n",
       "        [[ 3.4765e+13],\n",
       "         [ 2.2829e+12],\n",
       "         [ 1.4806e+13],\n",
       "         [-8.2714e+12],\n",
       "         [ 8.0095e+12],\n",
       "         [-1.2138e+13],\n",
       "         [ 3.0633e+12],\n",
       "         [ 3.3258e+12],\n",
       "         [-3.8238e+12],\n",
       "         [ 1.8341e+13],\n",
       "         [-5.6896e+10],\n",
       "         [ 1.1449e+13],\n",
       "         [ 4.1351e+12],\n",
       "         [ 2.0830e+13]],\n",
       "\n",
       "        [[ 2.5699e+12],\n",
       "         [ 3.8952e+12],\n",
       "         [ 2.3797e+13],\n",
       "         [-1.9080e+13],\n",
       "         [ 3.4616e+12],\n",
       "         [-6.6704e+12],\n",
       "         [-1.8277e+13],\n",
       "         [ 1.9055e+12],\n",
       "         [-7.7271e+12],\n",
       "         [ 1.6675e+13],\n",
       "         [-1.2877e+13],\n",
       "         [ 5.7163e+12],\n",
       "         [ 8.4777e+12],\n",
       "         [ 8.6844e+12]],\n",
       "\n",
       "        [[ 2.9354e+13],\n",
       "         [ 4.6850e+12],\n",
       "         [ 2.7338e+13],\n",
       "         [ 2.5491e+12],\n",
       "         [ 1.2758e+13],\n",
       "         [-1.2544e+13],\n",
       "         [-1.3369e+13],\n",
       "         [ 1.3621e+13],\n",
       "         [ 9.6460e+12],\n",
       "         [ 3.6918e+12],\n",
       "         [-1.6068e+13],\n",
       "         [ 8.3871e+11],\n",
       "         [ 6.9194e+12],\n",
       "         [ 1.3001e+13]],\n",
       "\n",
       "        [[ 2.7751e+13],\n",
       "         [ 2.7031e+12],\n",
       "         [ 2.6493e+13],\n",
       "         [ 5.3587e+12],\n",
       "         [ 1.6325e+13],\n",
       "         [ 5.3355e+12],\n",
       "         [-2.6085e+13],\n",
       "         [ 6.2539e+12],\n",
       "         [-1.0408e+13],\n",
       "         [ 1.1723e+13],\n",
       "         [ 3.8416e+12],\n",
       "         [ 5.1338e+12],\n",
       "         [-1.5706e+13],\n",
       "         [-5.2395e+12]]], grad_fn=<ViewBackward0>)"
      ]
     },
     "execution_count": 11,
     "metadata": {},
     "output_type": "execute_result"
    }
   ],
   "source": [
    "score"
   ]
  }
 ],
 "metadata": {
  "kernelspec": {
   "display_name": "simformer",
   "language": "python",
   "name": "python3"
  },
  "language_info": {
   "codemirror_mode": {
    "name": "ipython",
    "version": 3
   },
   "file_extension": ".py",
   "mimetype": "text/x-python",
   "name": "python",
   "nbconvert_exporter": "python",
   "pygments_lexer": "ipython3",
   "version": "3.12.6"
  }
 },
 "nbformat": 4,
 "nbformat_minor": 2
}
