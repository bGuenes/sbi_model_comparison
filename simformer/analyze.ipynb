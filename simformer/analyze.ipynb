{
 "cells": [
  {
   "cell_type": "code",
   "execution_count": 6,
   "metadata": {},
   "outputs": [],
   "source": [
    "import seaborn as sns\n",
    "import matplotlib.pyplot as plt\n",
    "import pandas as pd\n",
    "#import jax\n",
    "#import jax.numpy as jnp\n",
    "import numpy as np\n",
    "import multiprocessing as mp\n",
    "import torch"
   ]
  },
  {
   "cell_type": "code",
   "execution_count": 7,
   "metadata": {},
   "outputs": [],
   "source": [
    "labels_out = ['C', 'Fe', 'He', 'Mg', 'N', 'Ne', 'O', 'Si']\n",
    "labels_in = ['high_mass_slope', 'log10_N_0', 'log10_starformation_efficiency', 'log10_sfr_scale', 'outflow_feedback_fraction', 'time']\n",
    "\n",
    "samples = np.load(\"samples.npy\")"
   ]
  },
  {
   "cell_type": "code",
   "execution_count": 8,
   "metadata": {},
   "outputs": [],
   "source": [
    "priors = torch.tensor([[-2.3000,  0.3000],\n",
    "                       [-2.8900,  0.3000],\n",
    "                       [-0.3000,  0.3000],\n",
    "                       [ 0.5500,  0.1000],\n",
    "                       [ 0.5000,  0.1000]])"
   ]
  },
  {
   "cell_type": "code",
   "execution_count": 18,
   "metadata": {},
   "outputs": [],
   "source": [
    "posteriors = samples[:,-1,:5].mean(axis=0)\n",
    "posteriors_std = samples[:,-1,:5].std(axis=0)"
   ]
  },
  {
   "cell_type": "code",
   "execution_count": 25,
   "metadata": {},
   "outputs": [
    {
     "name": "stdout",
     "output_type": "stream",
     "text": [
      "high_mass_slope: -2.38 +/- 0.29\n",
      "Prior: -2.30 +/- 0.30\n",
      "Deviation:  tensor(0.0346)\n",
      "\n",
      "log10_N_0: -2.91 +/- 0.28\n",
      "Prior: -2.89 +/- 0.30\n",
      "Deviation:  tensor(0.0067)\n",
      "\n",
      "log10_starformation_efficiency: -0.28 +/- 0.30\n",
      "Prior: -0.30 +/- 0.30\n",
      "Deviation:  tensor(-0.0619)\n",
      "\n",
      "log10_sfr_scale: 0.53 +/- 0.10\n",
      "Prior: 0.55 +/- 0.10\n",
      "Deviation:  tensor(-0.0408)\n",
      "\n",
      "outflow_feedback_fraction: 0.52 +/- 0.10\n",
      "Prior: 0.50 +/- 0.10\n",
      "Deviation:  tensor(0.0293)\n",
      "\n"
     ]
    }
   ],
   "source": [
    "for i in range(len(posteriors)):\n",
    "    print(f\"{labels_in[i]}: {posteriors[i]:.2f} +/- {posteriors_std[i]:.2f}\")\n",
    "    print(f\"Prior: {priors[i,0]:.2f} +/- {priors[i,1]:.2f}\")\n",
    "    print(\"Deviation: \", (posteriors[i] - priors[i,0])/posteriors[i])\n",
    "    print()"
   ]
  },
  {
   "cell_type": "code",
   "execution_count": null,
   "metadata": {},
   "outputs": [],
   "source": []
  }
 ],
 "metadata": {
  "kernelspec": {
   "display_name": "simformer",
   "language": "python",
   "name": "python3"
  },
  "language_info": {
   "codemirror_mode": {
    "name": "ipython",
    "version": 3
   },
   "file_extension": ".py",
   "mimetype": "text/x-python",
   "name": "python",
   "nbconvert_exporter": "python",
   "pygments_lexer": "ipython3",
   "version": "3.12.6"
  }
 },
 "nbformat": 4,
 "nbformat_minor": 2
}
