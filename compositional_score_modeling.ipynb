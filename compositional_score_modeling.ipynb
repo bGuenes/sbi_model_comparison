{
 "cells": [
  {
   "cell_type": "code",
   "execution_count": 1,
   "id": "d0ad0f0e",
   "metadata": {},
   "outputs": [],
   "source": [
    "import os\n",
    "#os.environ['CUDA_VISIBLE_DEVICES'] = '2,7'"
   ]
  },
  {
   "cell_type": "code",
   "execution_count": 2,
   "id": "e4e03475",
   "metadata": {},
   "outputs": [],
   "source": [
    "#from src.ModelTransfuser_cfg import *\n",
    "from src.ModelTransfuser import ModelTransfuser as MTf\n",
    "from src.plot_functions import *\n",
    "\n",
    "import matplotlib.pyplot as plt\n",
    "import matplotlib.animation\n",
    "import matplotlib.patches as patches\n",
    "import seaborn as sns\n",
    "\n",
    "import numpy as np\n",
    "import torch\n",
    "from torch.distributions.normal import Normal\n",
    "from torch.distributions.uniform import Uniform\n",
    "\n",
    "from scipy.stats import norm\n",
    "\n",
    "import os\n",
    "import time as t\n",
    "\n",
    "from Chempy.parameter import ModelParameters\n",
    "\n",
    "%matplotlib inline\n",
    "%load_ext line_profiler"
   ]
  },
  {
   "cell_type": "code",
   "execution_count": 3,
   "id": "495d227bf09f16e2",
   "metadata": {
    "ExecuteTime": {
     "end_time": "2024-08-13T20:53:26.552332Z",
     "start_time": "2024-08-13T20:53:26.550533Z"
    },
    "collapsed": false
   },
   "outputs": [],
   "source": [
    "# ----- Load the data -----\n",
    "a = ModelParameters()\n",
    "labels = [a.to_optimize[i] for i in range(len(a.to_optimize))] + ['time']\n",
    "priors = torch.tensor([[a.priors[opt][0], a.priors[opt][1]] for opt in a.to_optimize])\n",
    "\n",
    "elements = a.elements_to_trace"
   ]
  },
  {
   "cell_type": "code",
   "execution_count": 4,
   "id": "d1c3dbda",
   "metadata": {},
   "outputs": [],
   "source": [
    "model = MTf.load('data/models/optuna_113/Model_checkpoint.pt')\n",
    "device = \"cuda:0\""
   ]
  },
  {
   "cell_type": "code",
   "execution_count": 5,
   "id": "79cff0c0c4be919d",
   "metadata": {
    "ExecuteTime": {
     "end_time": "2024-08-13T20:53:26.781393Z",
     "start_time": "2024-08-13T20:53:26.778908Z"
    },
    "collapsed": false
   },
   "outputs": [],
   "source": [
    "# ----- Load the NN -----\n",
    "class Model_Torch(torch.nn.Module):\n",
    "    def __init__(self):\n",
    "        super(Model_Torch, self).__init__()\n",
    "        self.l1 = torch.nn.Linear(len(labels), 100)\n",
    "        self.l2 = torch.nn.Linear(100, 40)\n",
    "        self.l3 = torch.nn.Linear(40, len(elements))\n",
    "\n",
    "    def forward(self, x):\n",
    "        x = torch.tanh(self.l1(x))\n",
    "        x = torch.tanh(self.l2(x))\n",
    "        x = self.l3(x)\n",
    "        return x\n",
    "    \n",
    "emulator = Model_Torch()\n",
    "emulator.load_state_dict(torch.load('data/models/pytorch_state_dict_5sigma_uni_prior.pt'))\n",
    "emulator.eval();"
   ]
  },
  {
   "cell_type": "markdown",
   "id": "686046a7128767af",
   "metadata": {
    "collapsed": false
   },
   "source": [
    "# Simulate data\n",
    "With the set global priors and for each $N_{\\rm stars}$ a set of local priors, we can simulate the data with the Neural Network."
   ]
  },
  {
   "cell_type": "code",
   "execution_count": 6,
   "id": "f4920a470881cb75",
   "metadata": {
    "ExecuteTime": {
     "end_time": "2024-08-13T20:53:26.799357Z",
     "start_time": "2024-08-13T20:53:26.786120Z"
    },
    "collapsed": false
   },
   "outputs": [
    {
     "name": "stderr",
     "output_type": "stream",
     "text": [
      "/export/home/bguenes/anaconda3/envs/simformer_torch/lib/python3.10/site-packages/torch/distributions/distribution.py:179: UserWarning: sample_n will be deprecated. Use .sample((n,)) instead\n",
      "  warnings.warn(\n"
     ]
    }
   ],
   "source": [
    "N_stars = 200\n",
    "simulations = 1000\n",
    "\n",
    "stars = torch.stack([p.sample_n(N_stars) for p in [Normal(p[0]*torch.ones(1), p[1]*torch.ones(1)) for p in priors[2:]]+[Uniform(torch.tensor([2.0]), torch.tensor([12.8]))]], dim=0).squeeze().T\n",
    "global_params = torch.tensor([[-2.3, -2.89]])\n",
    "\n",
    "stars = torch.cat((global_params.repeat(N_stars, 1), stars), dim=1)"
   ]
  },
  {
   "cell_type": "code",
   "execution_count": 7,
   "id": "63bc696db5290bc9",
   "metadata": {
    "ExecuteTime": {
     "end_time": "2024-08-13T20:53:26.829270Z",
     "start_time": "2024-08-13T20:53:26.798357Z"
    },
    "collapsed": false
   },
   "outputs": [
    {
     "name": "stdout",
     "output_type": "stream",
     "text": [
      "Time to create data for 200 stars: 0.004 s\n"
     ]
    }
   ],
   "source": [
    "# ----- Simulate abundances -----\n",
    "start = t.time()\n",
    "abundances = emulator(stars)  \n",
    "# Remove H from data, because it is just used for normalization (output with index 2)\n",
    "abundances = torch.cat([abundances[:,0:2], abundances[:,3:]], axis=1)\n",
    "end = t.time()\n",
    "print(f'Time to create data for {N_stars} stars: {end-start:.3f} s')"
   ]
  },
  {
   "cell_type": "markdown",
   "id": "ef5213f1",
   "metadata": {},
   "source": [
    "# SBI with 5% observation error noise\n",
    "Need to load the posterior trained with a 5% observation error"
   ]
  },
  {
   "cell_type": "code",
   "execution_count": 8,
   "id": "05c888f9",
   "metadata": {},
   "outputs": [],
   "source": [
    "def add_noise(true_abundances):\n",
    "    # Define observational erorrs\n",
    "    pc_ab = 5 # percentage error in abundance\n",
    "\n",
    "    # Jitter true abundances and birth-times by these errors to create mock observational values.\n",
    "    obs_ab_errors = np.ones_like(true_abundances)*float(pc_ab)/100.\n",
    "    obs_abundances = norm.rvs(loc=true_abundances,scale=obs_ab_errors)\n",
    "\n",
    "    return obs_abundances"
   ]
  },
  {
   "cell_type": "code",
   "execution_count": 9,
   "id": "e3dff4aa",
   "metadata": {},
   "outputs": [
    {
     "name": "stderr",
     "output_type": "stream",
     "text": [
      "1000it [14:22,  1.16it/s]"
     ]
    },
    {
     "name": "stdout",
     "output_type": "stream",
     "text": [
      "Time to run 1000 simulations for 200 stars: 862.147 s\n"
     ]
    },
    {
     "name": "stderr",
     "output_type": "stream",
     "text": [
      "\n"
     ]
    }
   ],
   "source": [
    "alpha_IMF_obs = []\n",
    "log10_N_Ia_obs = []\n",
    "simulations = 1000\n",
    "\n",
    "mask = torch.zeros(14)\n",
    "mask[6:] = 1\n",
    "\n",
    "start = t.time()\n",
    "\n",
    "x = torch.tensor(add_noise(abundances.detach().numpy()), dtype=torch.float32)\n",
    "inference = model.sample(x, condition_mask=mask, device=device, num_samples=simulations, timesteps=1000, final_corrector_steps=10, method=\"euler\",multi_obs_inference=True, hierarchy=[0,1])\n",
    "\n",
    "end = t.time()\n",
    "print(f'Time to run {simulations} simulations for {N_stars} stars: {end-start:.3f} s')"
   ]
  },
  {
   "cell_type": "code",
   "execution_count": 10,
   "id": "80a76edf",
   "metadata": {},
   "outputs": [
    {
     "name": "stderr",
     "output_type": "stream",
     "text": [
      "/tmp/ipykernel_840576/943353855.py:1: UserWarning: The use of `x.T` on tensors of dimension other than 2 to reverse their shape is deprecated and it will throw an error in a future release. Consider `x.mT` to transpose batches of matrices or `x.permute(*torch.arange(x.ndim - 1, -1, -1))` to reverse the dimensions of a tensor. (Triggered internally at /opt/conda/envs/bld/conda-bld/pytorch-select_1725570624180/work/aten/src/ATen/native/TensorShape.cpp:3675.)\n",
      "  alpha_IMF_obs, log10_N_Ia_obs = inference[:,:,:2].cpu().T.detach().numpy()\n"
     ]
    }
   ],
   "source": [
    "alpha_IMF_obs, log10_N_Ia_obs = inference[:,:,:2].cpu().T.detach().numpy()\n",
    "\n",
    "alpha_IMF_obs = alpha_IMF_obs.T\n",
    "log10_N_Ia_obs = log10_N_Ia_obs.T"
   ]
  },
  {
   "cell_type": "code",
   "execution_count": 11,
   "id": "8d943c39",
   "metadata": {},
   "outputs": [
    {
     "name": "stdout",
     "output_type": "stream",
     "text": [
      "alpha_IMF: -16.033 +- 24.725\n",
      "True: -2.300\n",
      "\n",
      "log10_N_Ia: -16.546 +- 26.515\n",
      "True: -2.890\n"
     ]
    }
   ],
   "source": [
    "alpha_mean = alpha_IMF_obs.mean()\n",
    "alpha_std = alpha_IMF_obs.std()\n",
    "\n",
    "logN_Ia_mean = log10_N_Ia_obs.mean()\n",
    "logN_Ia_std = log10_N_Ia_obs.std()\n",
    "\n",
    "print(f'alpha_IMF: {alpha_mean:.3f} +- {alpha_std:.3f}')\n",
    "print(f\"True: {global_params[0,0]:.3f}\")\n",
    "print()\n",
    "print(f'log10_N_Ia: {logN_Ia_mean:.3f} +- {logN_Ia_std:.3f}')\n",
    "print(f\"True: {global_params[0,1]:.3f}\")\n"
   ]
  },
  {
   "cell_type": "code",
   "execution_count": 12,
   "id": "33830ced",
   "metadata": {},
   "outputs": [
    {
     "data": {
      "text/plain": [
       "tensor([-16.0327, -16.5456,  -0.0444,   0.5423,   0.4831,   3.5524,   0.0494,\n",
       "         -0.0658,   0.1027,   0.2657,   0.0818,   0.5560,   0.3730,   0.2355],\n",
       "       device='cuda:0')"
      ]
     },
     "execution_count": 12,
     "metadata": {},
     "output_type": "execute_result"
    }
   ],
   "source": [
    "inference.T.flatten(1).mean(1)"
   ]
  },
  {
   "cell_type": "code",
   "execution_count": 13,
   "id": "aaa74100",
   "metadata": {},
   "outputs": [
    {
     "data": {
      "text/plain": [
       "tensor([24.7251, 26.5150,  0.1237,  0.0307,  0.0359,  0.9910,  0.0729,  0.2541,\n",
       "         0.2417,  0.0958,  0.0758,  0.0838,  0.1053,  0.0984], device='cuda:0')"
      ]
     },
     "execution_count": 13,
     "metadata": {},
     "output_type": "execute_result"
    }
   ],
   "source": [
    "inference.T.flatten(1).std(1)"
   ]
  },
  {
   "cell_type": "code",
   "execution_count": 14,
   "id": "8d7f1a63",
   "metadata": {},
   "outputs": [
    {
     "data": {
      "image/png": "[encoded data removed]",
      "text/plain": [
       "<Figure size 640x480 with 1 Axes>"
      ]
     },
     "metadata": {},
     "output_type": "display_data"
    }
   ],
   "source": [
    "sns.histplot(alpha_IMF_obs.flatten(), bins=100)\n",
    "plt.show()"
   ]
  }
 ],
 "metadata": {
  "kernelspec": {
   "display_name": "simformer_torch",
   "language": "python",
   "name": "python3"
  },
  "language_info": {
   "codemirror_mode": {
    "name": "ipython",
    "version": 3
   },
   "file_extension": ".py",
   "mimetype": "text/x-python",
   "name": "python",
   "nbconvert_exporter": "python",
   "pygments_lexer": "ipython3",
   "version": "3.10.14"
  }
 },
 "nbformat": 4,
 "nbformat_minor": 5
}
