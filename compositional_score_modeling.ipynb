{
 "cells": [
  {
   "cell_type": "code",
   "execution_count": 1,
   "id": "d0ad0f0e",
   "metadata": {},
   "outputs": [],
   "source": [
    "import os\n",
    "os.environ['CUDA_VISIBLE_DEVICES'] = '4,5,6,7,8,9'"
   ]
  },
  {
   "cell_type": "code",
   "execution_count": 2,
   "id": "e4e03475",
   "metadata": {},
   "outputs": [],
   "source": [
    "from src.ScoreBasedInferenceModel import ScoreBasedInferenceModel as SBIm\n",
    "from src.plot_functions import *\n",
    "\n",
    "import matplotlib.pyplot as plt\n",
    "import matplotlib.animation\n",
    "import matplotlib.patches as patches\n",
    "import seaborn as sns\n",
    "\n",
    "import numpy as np\n",
    "import torch\n",
    "from torch.distributions.normal import Normal\n",
    "from torch.distributions.uniform import Uniform\n",
    "\n",
    "from scipy.stats import norm\n",
    "\n",
    "import os\n",
    "import time as t\n",
    "\n",
    "from Chempy.parameter import ModelParameters\n",
    "\n",
    "%matplotlib inline\n",
    "%load_ext line_profiler"
   ]
  },
  {
   "cell_type": "code",
   "execution_count": 3,
   "id": "495d227bf09f16e2",
   "metadata": {
    "ExecuteTime": {
     "end_time": "2024-08-13T20:53:26.552332Z",
     "start_time": "2024-08-13T20:53:26.550533Z"
    },
    "collapsed": false
   },
   "outputs": [],
   "source": [
    "# ----- Load the data -----\n",
    "a = ModelParameters()\n",
    "labels = [a.to_optimize[i] for i in range(len(a.to_optimize))] + ['time']\n",
    "priors = torch.tensor([[a.priors[opt][0], a.priors[opt][1]] for opt in a.to_optimize])\n",
    "\n",
    "elements = a.elements_to_trace"
   ]
  },
  {
   "cell_type": "code",
   "execution_count": 4,
   "id": "d1c3dbda",
   "metadata": {},
   "outputs": [],
   "source": [
    "model = SBIm.load('data/models/optuna_113/Model_checkpoint.pt')\n",
    "device = \"cuda\""
   ]
  },
  {
   "cell_type": "code",
   "execution_count": 5,
   "id": "79cff0c0c4be919d",
   "metadata": {
    "ExecuteTime": {
     "end_time": "2024-08-13T20:53:26.781393Z",
     "start_time": "2024-08-13T20:53:26.778908Z"
    },
    "collapsed": false
   },
   "outputs": [],
   "source": [
    "# ----- Load the NN -----\n",
    "class Model_Torch(torch.nn.Module):\n",
    "    def __init__(self):\n",
    "        super(Model_Torch, self).__init__()\n",
    "        self.l1 = torch.nn.Linear(len(labels), 100)\n",
    "        self.l2 = torch.nn.Linear(100, 40)\n",
    "        self.l3 = torch.nn.Linear(40, len(elements))\n",
    "\n",
    "    def forward(self, x):\n",
    "        x = torch.tanh(self.l1(x))\n",
    "        x = torch.tanh(self.l2(x))\n",
    "        x = self.l3(x)\n",
    "        return x\n",
    "    \n",
    "emulator = Model_Torch()\n",
    "emulator.load_state_dict(torch.load('data/models/pytorch_state_dict_5sigma_uni_prior.pt'))\n",
    "emulator.eval();"
   ]
  },
  {
   "cell_type": "markdown",
   "id": "686046a7128767af",
   "metadata": {
    "collapsed": false
   },
   "source": [
    "# Simulate data\n",
    "With the set global priors and for each $N_{\\rm stars}$ a set of local priors, we can simulate the data with the Neural Network."
   ]
  },
  {
   "cell_type": "code",
   "execution_count": 6,
   "id": "f4920a470881cb75",
   "metadata": {
    "ExecuteTime": {
     "end_time": "2024-08-13T20:53:26.799357Z",
     "start_time": "2024-08-13T20:53:26.786120Z"
    },
    "collapsed": false
   },
   "outputs": [
    {
     "name": "stderr",
     "output_type": "stream",
     "text": [
      "/tmp/ipykernel_1181629/3638983991.py:4: FutureWarning: `sample_n(n)` will be deprecated. Use `sample((n,))` instead.\n",
      "  stars = torch.stack([p.sample_n(N_stars) for p in [Normal(p[0]*torch.ones(1), p[1]*torch.ones(1)) for p in priors[2:]]+[Uniform(torch.tensor([2.0]), torch.tensor([12.8]))]], dim=0).squeeze().T\n"
     ]
    }
   ],
   "source": [
    "N_stars = 200\n",
    "simulations = 1000\n",
    "\n",
    "stars = torch.stack([p.sample_n(N_stars) for p in [Normal(p[0]*torch.ones(1), p[1]*torch.ones(1)) for p in priors[2:]]+[Uniform(torch.tensor([2.0]), torch.tensor([12.8]))]], dim=0).squeeze().T\n",
    "global_params = torch.tensor([[-2.3, -2.89]])\n",
    "\n",
    "stars = torch.cat((global_params.repeat(N_stars, 1), stars), dim=1)"
   ]
  },
  {
   "cell_type": "code",
   "execution_count": 7,
   "id": "63bc696db5290bc9",
   "metadata": {
    "ExecuteTime": {
     "end_time": "2024-08-13T20:53:26.829270Z",
     "start_time": "2024-08-13T20:53:26.798357Z"
    },
    "collapsed": false
   },
   "outputs": [
    {
     "name": "stdout",
     "output_type": "stream",
     "text": [
      "Time to create data for 200 stars: 0.054 s\n"
     ]
    }
   ],
   "source": [
    "# ----- Simulate abundances -----\n",
    "start = t.time()\n",
    "abundances = emulator(stars)  \n",
    "# Remove H from data, because it is just used for normalization (output with index 2)\n",
    "abundances = torch.cat([abundances[:,0:2], abundances[:,3:]], axis=1)\n",
    "end = t.time()\n",
    "print(f'Time to create data for {N_stars} stars: {end-start:.3f} s')"
   ]
  },
  {
   "cell_type": "markdown",
   "id": "ef5213f1",
   "metadata": {},
   "source": [
    "# SBI with 5% observation error noise\n",
    "Need to load the posterior trained with a 5% observation error"
   ]
  },
  {
   "cell_type": "code",
   "execution_count": 8,
   "id": "05c888f9",
   "metadata": {},
   "outputs": [],
   "source": [
    "def add_noise(true_abundances):\n",
    "    # Define observational erorrs\n",
    "    pc_ab = 5 # percentage error in abundance\n",
    "\n",
    "    # Jitter true abundances and birth-times by these errors to create mock observational values.\n",
    "    obs_ab_errors = np.ones_like(true_abundances)*float(pc_ab)/100.\n",
    "    obs_abundances = norm.rvs(loc=true_abundances,scale=obs_ab_errors)\n",
    "\n",
    "    return obs_abundances"
   ]
  },
  {
   "cell_type": "code",
   "execution_count": null,
   "id": "e3dff4aa",
   "metadata": {},
   "outputs": [
    {
     "name": "stderr",
     "output_type": "stream",
     "text": [
      "  0%|          | 0/100 [00:00<?, ?it/s]"
     ]
    },
    {
     "name": "stderr",
     "output_type": "stream",
     "text": [
      "  8%|▊         | 8/100 [05:17<14:33,  9.50s/it]   "
     ]
    }
   ],
   "source": [
    "alpha_IMF_obs = []\n",
    "log10_N_Ia_obs = []\n",
    "simulations = 1000\n",
    "\n",
    "mask = torch.zeros(14)\n",
    "mask[6:] = 1\n",
    "\n",
    "start = t.time()\n",
    "\n",
    "x = torch.tensor(add_noise(abundances.detach().numpy()), dtype=torch.float32)\n",
    "inference = model.sample(x, condition_mask=mask, device=device, num_samples=simulations, timesteps=100, method=\"euler\",multi_obs_inference=True, hierarchy=[0,1], save_trajectory=True)\n",
    "\n",
    "end = t.time()\n",
    "print(f'Time to run {simulations} simulations for {N_stars} stars: {end-start:.3f} s')"
   ]
  },
  {
   "cell_type": "code",
   "execution_count": 10,
   "id": "80a76edf",
   "metadata": {},
   "outputs": [
    {
     "name": "stderr",
     "output_type": "stream",
     "text": [
      "/tmp/ipykernel_1116780/943353855.py:1: UserWarning: The use of `x.T` on tensors of dimension other than 2 to reverse their shape is deprecated and it will throw an error in a future release. Consider `x.mT` to transpose batches of matrices or `x.permute(*torch.arange(x.ndim - 1, -1, -1))` to reverse the dimensions of a tensor. (Triggered internally at /pytorch/aten/src/ATen/native/TensorShape.cpp:3725.)\n",
      "  alpha_IMF_obs, log10_N_Ia_obs = inference[:,:,:2].cpu().T.detach().numpy()\n"
     ]
    }
   ],
   "source": [
    "alpha_IMF_obs, log10_N_Ia_obs = inference[:,:,:2].cpu().T.detach().numpy()\n",
    "\n",
    "alpha_IMF_obs = alpha_IMF_obs.T\n",
    "log10_N_Ia_obs = log10_N_Ia_obs.T"
   ]
  },
  {
   "cell_type": "code",
   "execution_count": 11,
   "id": "01ef0b1e",
   "metadata": {},
   "outputs": [
    {
     "data": {
      "text/plain": [
       "array([[-4.2803733e+19, -3.6137852e+21, -1.5843456e+20, ...,\n",
       "        -1.6560310e+21, -4.4871181e+21, -5.4337759e+21],\n",
       "       [-4.2803733e+19, -3.6137852e+21, -1.5843456e+20, ...,\n",
       "        -1.6560310e+21, -4.4871181e+21, -5.4337759e+21],\n",
       "       [-4.2803733e+19, -3.6137852e+21, -1.5843456e+20, ...,\n",
       "        -1.6560310e+21, -4.4871181e+21, -5.4337759e+21],\n",
       "       ...,\n",
       "       [-4.2803733e+19, -3.6137852e+21, -1.5843456e+20, ...,\n",
       "        -1.6560310e+21, -4.4871181e+21, -5.4337759e+21],\n",
       "       [-4.2803733e+19, -3.6137852e+21, -1.5843456e+20, ...,\n",
       "        -1.6560310e+21, -4.4871181e+21, -5.4337759e+21],\n",
       "       [-4.2803733e+19, -3.6137852e+21, -1.5843456e+20, ...,\n",
       "        -1.6560310e+21, -4.4871181e+21, -5.4337759e+21]], dtype=float32)"
      ]
     },
     "execution_count": 11,
     "metadata": {},
     "output_type": "execute_result"
    }
   ],
   "source": [
    "alpha_IMF_obs"
   ]
  },
  {
   "cell_type": "code",
   "execution_count": 12,
   "id": "8d943c39",
   "metadata": {},
   "outputs": [
    {
     "name": "stdout",
     "output_type": "stream",
     "text": [
      "alpha_IMF: -1850370334999671996416.000 +- inf\n",
      "True: -2.300\n",
      "\n",
      "log10_N_Ia: -5661128877346096414720.000 +- inf\n",
      "True: -2.890\n"
     ]
    },
    {
     "name": "stderr",
     "output_type": "stream",
     "text": [
      "/export/home/bguenes/anaconda3/envs/simformer_torch/lib/python3.10/site-packages/numpy/core/_methods.py:176: RuntimeWarning: overflow encountered in multiply\n",
      "  x = um.multiply(x, x, out=x)\n"
     ]
    }
   ],
   "source": [
    "alpha_mean = alpha_IMF_obs.mean()\n",
    "alpha_std = alpha_IMF_obs.std()\n",
    "\n",
    "logN_Ia_mean = log10_N_Ia_obs.mean()\n",
    "logN_Ia_std = log10_N_Ia_obs.std()\n",
    "\n",
    "print(f'alpha_IMF: {alpha_mean:.3f} +- {alpha_std:.3f}')\n",
    "print(f\"True: {global_params[0,0]:.3f}\")\n",
    "print()\n",
    "print(f'log10_N_Ia: {logN_Ia_mean:.3f} +- {logN_Ia_std:.3f}')\n",
    "print(f\"True: {global_params[0,1]:.3f}\")\n"
   ]
  },
  {
   "cell_type": "code",
   "execution_count": 13,
   "id": "33830ced",
   "metadata": {},
   "outputs": [
    {
     "data": {
      "text/plain": [
       "tensor([-1.8504e+21, -5.6611e+21, -1.3462e+00, -3.9039e-01, -3.6343e-01,\n",
       "         2.5257e+00,  4.6335e-02, -8.8679e-02,  1.1909e-01,  2.7051e-01,\n",
       "         7.8132e-02,  5.6995e-01,  3.8571e-01,  2.3728e-01], device='cuda:1')"
      ]
     },
     "execution_count": 13,
     "metadata": {},
     "output_type": "execute_result"
    }
   ],
   "source": [
    "inference.T.flatten(1).mean(1)"
   ]
  },
  {
   "cell_type": "code",
   "execution_count": 14,
   "id": "aaa74100",
   "metadata": {},
   "outputs": [
    {
     "data": {
      "text/plain": [
       "tensor([   inf,    inf, 1.4011, 1.3991, 1.3984, 1.6254, 0.0675, 0.2886, 0.2668,\n",
       "        0.0983, 0.0692, 0.0839, 0.1103, 0.0998], device='cuda:1')"
      ]
     },
     "execution_count": 14,
     "metadata": {},
     "output_type": "execute_result"
    }
   ],
   "source": [
    "inference.T.flatten(1).std(1)"
   ]
  },
  {
   "cell_type": "code",
   "execution_count": 15,
   "id": "8d7f1a63",
   "metadata": {},
   "outputs": [
    {
     "data": {
      "image/png": "[encoded data removed]",
      "text/plain": [
       "<Figure size 640x480 with 1 Axes>"
      ]
     },
     "metadata": {},
     "output_type": "display_data"
    }
   ],
   "source": [
    "ax = sns.histplot(alpha_IMF_obs.flatten(), bins=1000, kde=True)\n",
    "plt.show()"
   ]
  },
  {
   "cell_type": "code",
   "execution_count": 16,
   "id": "4a3b4577",
   "metadata": {},
   "outputs": [
    {
     "data": {
      "text/plain": [
       "-1.3578194113612952e+20"
      ]
     },
     "execution_count": 16,
     "metadata": {},
     "output_type": "execute_result"
    }
   ],
   "source": [
    "ax.lines[0].get_xdata()[np.argmax(ax.lines[0].get_ydata())]"
   ]
  },
  {
   "cell_type": "code",
   "execution_count": 17,
   "id": "95c94356",
   "metadata": {},
   "outputs": [
    {
     "data": {
      "text/plain": [
       "torch.Size([101, 1000])"
      ]
     },
     "execution_count": 17,
     "metadata": {},
     "output_type": "execute_result"
    }
   ],
   "source": [
    "model.multi_obs_sampler.data_t[0,:,:,0].shape"
   ]
  },
  {
   "cell_type": "code",
   "execution_count": 18,
   "id": "dbc2c9fd",
   "metadata": {},
   "outputs": [
    {
     "data": {
      "text/plain": [
       "array([[ 2.82821512e+00, -2.21772137e+01,  1.59735470e+01, ...,\n",
       "        -1.76900492e+19, -2.75763937e+19, -4.28037326e+19],\n",
       "       [ 3.12299766e-02, -1.04475060e+01,  1.84223118e+01, ...,\n",
       "        -1.49351552e+21, -2.32818846e+21, -3.61378517e+21],\n",
       "       [-2.95248604e+00,  1.34422159e+00, -1.56945705e+01, ...,\n",
       "        -6.54782836e+19, -1.02071781e+20, -1.58434559e+20],\n",
       "       ...,\n",
       "       [ 2.74157286e+00, -2.43995457e+01,  9.90632439e+00, ...,\n",
       "        -6.84409221e+20, -1.06690134e+21, -1.65603100e+21],\n",
       "       [-1.13667047e+00, -6.23580790e+00,  1.17730045e+01, ...,\n",
       "        -1.85444891e+21, -2.89083499e+21, -4.48711814e+21],\n",
       "       [ 1.19121201e-01, -1.16772699e+01,  2.50819321e+01, ...,\n",
       "        -2.24568646e+21, -3.50072117e+21, -5.43377591e+21]], dtype=float32)"
      ]
     },
     "execution_count": 18,
     "metadata": {},
     "output_type": "execute_result"
    }
   ],
   "source": [
    "test2 = model.multi_obs_sampler.data_t[1,:,:,0].cpu().T.detach().numpy()\n",
    "test2"
   ]
  },
  {
   "cell_type": "code",
   "execution_count": 19,
   "id": "dbdb53f0",
   "metadata": {},
   "outputs": [
    {
     "data": {
      "text/plain": [
       "array([[ 2.82821512e+00, -2.21772137e+01,  1.59735470e+01, ...,\n",
       "        -1.76900492e+19, -2.75763937e+19, -4.28037326e+19],\n",
       "       [ 3.12299766e-02, -1.04475060e+01,  1.84223118e+01, ...,\n",
       "        -1.49351552e+21, -2.32818846e+21, -3.61378517e+21],\n",
       "       [-2.95248604e+00,  1.34422159e+00, -1.56945705e+01, ...,\n",
       "        -6.54782836e+19, -1.02071781e+20, -1.58434559e+20],\n",
       "       ...,\n",
       "       [ 2.74157286e+00, -2.43995457e+01,  9.90632439e+00, ...,\n",
       "        -6.84409221e+20, -1.06690134e+21, -1.65603100e+21],\n",
       "       [-1.13667047e+00, -6.23580790e+00,  1.17730045e+01, ...,\n",
       "        -1.85444891e+21, -2.89083499e+21, -4.48711814e+21],\n",
       "       [ 1.19121201e-01, -1.16772699e+01,  2.50819321e+01, ...,\n",
       "        -2.24568646e+21, -3.50072117e+21, -5.43377591e+21]], dtype=float32)"
      ]
     },
     "execution_count": 19,
     "metadata": {},
     "output_type": "execute_result"
    }
   ],
   "source": [
    "test =model.multi_obs_sampler.data_t[0,:,:,0].cpu().T.detach().numpy()\n",
    "test"
   ]
  },
  {
   "cell_type": "code",
   "execution_count": 20,
   "id": "e348f733",
   "metadata": {},
   "outputs": [
    {
     "name": "stderr",
     "output_type": "stream",
     "text": [
      "/export/home/bguenes/anaconda3/envs/simformer_torch/lib/python3.10/site-packages/numpy/core/_methods.py:176: RuntimeWarning: overflow encountered in multiply\n",
      "  x = um.multiply(x, x, out=x)\n",
      "/export/home/bguenes/anaconda3/envs/simformer_torch/lib/python3.10/site-packages/numpy/core/_methods.py:187: RuntimeWarning: overflow encountered in reduce\n",
      "  ret = umr_sum(x, axis, dtype, out, keepdims=keepdims, where=where)\n"
     ]
    },
    {
     "data": {
      "image/png": "[encoded data removed]",
      "text/plain": [
       "<Figure size 640x480 with 1 Axes>"
      ]
     },
     "metadata": {},
     "output_type": "display_data"
    }
   ],
   "source": [
    "x = np.arange(0,model.multi_obs_sampler.data_t[0,:,:,0].shape[0]-1)\n",
    "y = model.multi_obs_sampler.data_t[0,:-1,:,0].detach().numpy().mean(axis=1)\n",
    "yerr = model.multi_obs_sampler.data_t[0,:-1,:,0].detach().numpy().std(axis=1)\n",
    "\n",
    "plt.plot(x,y)\n",
    "plt.fill_between(x, y-yerr, y+yerr, alpha=0.5)\n",
    "plt.hlines(-2.3, 0, model.multi_obs_sampler.data_t[0,:,:,0].shape[0]-1, color='red')\n",
    "plt.title(r\"$\\alpha_{IMF}$\")\n",
    "plt.show()"
   ]
  },
  {
   "cell_type": "code",
   "execution_count": 21,
   "id": "b05121e8",
   "metadata": {},
   "outputs": [
    {
     "data": {
      "image/png": "[encoded data removed]",
      "text/plain": [
       "<Figure size 640x480 with 1 Axes>"
      ]
     },
     "metadata": {},
     "output_type": "display_data"
    }
   ],
   "source": [
    "x = np.arange(0,model.multi_obs_sampler.data_t[0,:,:,1].shape[0]-1)\n",
    "y = model.multi_obs_sampler.data_t[0,:-1,:,1].detach().numpy().mean(axis=1)\n",
    "yerr = model.multi_obs_sampler.data_t[0,:-1,:,1].detach().numpy().std(axis=1)\n",
    "\n",
    "plt.plot(x,y)\n",
    "plt.fill_between(x, y-yerr, y+yerr, alpha=0.5)\n",
    "plt.hlines(-2.89, 0, model.multi_obs_sampler.data_t[0,:,:,1].shape[0]-1, color='red')\n",
    "plt.title(r\"$\\alpha_{IMF}$\")\n",
    "plt.show()"
   ]
  },
  {
   "cell_type": "code",
   "execution_count": null,
   "id": "e949ab7b",
   "metadata": {},
   "outputs": [],
   "source": []
  }
 ],
 "metadata": {
  "kernelspec": {
   "display_name": "simformer_torch",
   "language": "python",
   "name": "python3"
  },
  "language_info": {
   "codemirror_mode": {
    "name": "ipython",
    "version": 3
   },
   "file_extension": ".py",
   "mimetype": "text/x-python",
   "name": "python",
   "nbconvert_exporter": "python",
   "pygments_lexer": "ipython3",
   "version": "3.10.14"
  }
 },
 "nbformat": 4,
 "nbformat_minor": 5
}
