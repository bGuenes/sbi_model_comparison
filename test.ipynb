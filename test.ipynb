{
 "cells": [
  {
   "cell_type": "code",
   "execution_count": 1,
   "metadata": {},
   "outputs": [],
   "source": [
    "import os\n",
    "os.environ['CUDA_VISIBLE_DEVICES'] = '0,5,6,7'"
   ]
  },
  {
   "cell_type": "code",
   "execution_count": 2,
   "metadata": {},
   "outputs": [
    {
     "name": "stderr",
     "output_type": "stream",
     "text": [
      "/export/home/bguenes/anaconda3/envs/simformer_torch/lib/python3.10/site-packages/tqdm/auto.py:21: TqdmWarning: IProgress not found. Please update jupyter and ipywidgets. See https://ipywidgets.readthedocs.io/en/stable/user_install.html\n",
      "  from .autonotebook import tqdm as notebook_tqdm\n"
     ]
    }
   ],
   "source": [
    "from src.ModelTransfuser_sampling import ModelTransfuser as MTf\n",
    "from src.metrics import PosteriorCoverage\n",
    "import matplotlib.pyplot as plt\n",
    "import matplotlib.animation\n",
    "import matplotlib.patches as patches\n",
    "import seaborn as sns\n",
    "\n",
    "import numpy as np\n",
    "import torch\n",
    "from torch.utils.data import DataLoader\n",
    "\n",
    "from scipy.stats import norm, gaussian_kde\n",
    "from scipy import optimize\n",
    "\n",
    "import tarp\n",
    "\n",
    "import os\n",
    "\n",
    "%matplotlib inline"
   ]
  },
  {
   "cell_type": "markdown",
   "metadata": {},
   "source": [
    "# Load data"
   ]
  },
  {
   "cell_type": "code",
   "execution_count": 3,
   "metadata": {},
   "outputs": [],
   "source": [
    "# --- Clean the data ---\n",
    "# Chempy sometimes returns zeros or infinite values, which need to removed\n",
    "def clean_data(x, y):\n",
    "    # Remove all zeros from the training data\n",
    "    index = np.where((y == 0).all(axis=1))[0]\n",
    "    x = np.delete(x, index, axis=0)\n",
    "    y = np.delete(y, index, axis=0)\n",
    "\n",
    "    # Remove all infinite values from the training data\n",
    "    index = np.where(np.isfinite(y).all(axis=1))[0]\n",
    "    x = x[index]\n",
    "    y = y[index]\n",
    "\n",
    "    # Remove H from Elements\n",
    "    y = np.delete(y, 2, 1)\n",
    "\n",
    "    return x, y"
   ]
  },
  {
   "cell_type": "code",
   "execution_count": 4,
   "metadata": {},
   "outputs": [
    {
     "data": {
      "text/plain": [
       "\"\\n# --- Load in training data ---\\npath_training = os.getcwd() + '/data/Chempy_data/chempy_TNG_train_data.npz'\\ntraining_data = np.load(path_training, mmap_mode='r')\\n\\nelements = training_data['elements']\\ntrain_x = training_data['params']\\ntrain_y = training_data['abundances']\\n\\ntrain_x, train_y = clean_data(train_x, train_y)\\n\\n# convert to torch tensors\\ntrain_x = torch.tensor(train_x, dtype=torch.float32)\\ntrain_y = torch.tensor(train_y, dtype=torch.float32)\\n\\n# --- add noise ---\\npc_ab = 5 # percentage error in abundance\\n\\ntrain_y_err = torch.ones_like(train_y)*float(pc_ab)/100.\\ntrain_y = norm.rvs(loc=train_y,scale=train_y_err)\\ntrain_y = torch.tensor(train_y).float()\\n\\ntrain_data = torch.cat((train_x, train_y), 1)\\n\""
      ]
     },
     "execution_count": 4,
     "metadata": {},
     "output_type": "execute_result"
    }
   ],
   "source": [
    "\"\"\"\n",
    "# --- Load in training data ---\n",
    "path_training = os.getcwd() + '/data/Chempy_data/chempy_TNG_train_data.npz'\n",
    "training_data = np.load(path_training, mmap_mode='r')\n",
    "\n",
    "elements = training_data['elements']\n",
    "train_x = training_data['params']\n",
    "train_y = training_data['abundances']\n",
    "\n",
    "train_x, train_y = clean_data(train_x, train_y)\n",
    "\n",
    "# convert to torch tensors\n",
    "train_x = torch.tensor(train_x, dtype=torch.float32)\n",
    "train_y = torch.tensor(train_y, dtype=torch.float32)\n",
    "\n",
    "# --- add noise ---\n",
    "pc_ab = 5 # percentage error in abundance\n",
    "\n",
    "train_y_err = torch.ones_like(train_y)*float(pc_ab)/100.\n",
    "train_y = norm.rvs(loc=train_y,scale=train_y_err)\n",
    "train_y = torch.tensor(train_y).float()\n",
    "\n",
    "train_data = torch.cat((train_x, train_y), 1)\n",
    "\"\"\""
   ]
  },
  {
   "cell_type": "code",
   "execution_count": 5,
   "metadata": {},
   "outputs": [],
   "source": [
    "# ---  Load in the validation data ---\n",
    "path_test = os.getcwd() + '/data/Chempy_data/chempy_TNG_val_data.npz'\n",
    "val_data = np.load(path_test, mmap_mode='r')\n",
    "\n",
    "val_x = val_data['params']\n",
    "val_y = val_data['abundances']\n",
    "\n",
    "val_x, val_y = clean_data(val_x, val_y)\n",
    "\n",
    "# convert to torch tensors\n",
    "val_x = torch.tensor(val_x, dtype=torch.float32)\n",
    "val_y = torch.tensor(val_y, dtype=torch.float32)\n",
    "\n",
    "# --- add noise ---\n",
    "pc_ab = 5 # percentage error in abundance\n",
    "\n",
    "val_y_err = torch.ones_like(val_y)*float(pc_ab)/100.\n",
    "val_y = norm.rvs(loc=val_y,scale=val_y_err)\n",
    "val_y = torch.tensor(val_y).float()\n",
    "\n",
    "val_data = torch.cat((val_x, val_y), 1)"
   ]
  },
  {
   "cell_type": "markdown",
   "metadata": {},
   "source": [
    "## Define ModelTransfuser"
   ]
  },
  {
   "cell_type": "code",
   "execution_count": 6,
   "metadata": {},
   "outputs": [],
   "source": [
    "# Define the ModelTransfuser\n",
    "model = MTf.load('data/models/optuna_4_917/Model_checkpoint.pickle')"
   ]
  },
  {
   "cell_type": "markdown",
   "metadata": {},
   "source": [
    "## Forward Diffusion"
   ]
  },
  {
   "cell_type": "code",
   "execution_count": 7,
   "metadata": {},
   "outputs": [
    {
     "data": {
      "text/plain": [
       "'\\nmatplotlib.animation.FuncAnimation(fig, animate, frames=model.timesteps)\\n'"
      ]
     },
     "execution_count": 7,
     "metadata": {},
     "output_type": "execute_result"
    }
   ],
   "source": [
    "\"\"\"\n",
    "plt.rcParams[\"animation.html\"] = \"jshtml\"\n",
    "plt.rcParams['figure.dpi'] = 150  \n",
    "plt.ioff()\n",
    "fig, ax = plt.subplots()\n",
    "\n",
    "t = torch.linspace(0, 1, T)\n",
    "color = ['red', 'blue', 'green', 'purple', 'orange', 'black']\n",
    "\n",
    "def animate(i):\n",
    "    data_t = model.forward_diffusion_sample(train_data[:,:6], t[i])\n",
    "    plt.cla()\n",
    "    for n in range(data_t.shape[1]):\n",
    "        plt.hist(data_t[:,n], bins=500, range=(-5,15), density=True, alpha=0.5, color=color[n])\n",
    "    plt.xlim([-5,15])\n",
    "    plt.ylim([0,1])\n",
    "    plt.title(f\"t={int(i)}\")\n",
    "\n",
    "\"\"\"\n",
    "#ani = matplotlib.animation.FuncAnimation(fig, animate, frames=model.timesteps)\n",
    "\n",
    "#writer = matplotlib.animation.PillowWriter(fps=20,\n",
    "#                                metadata=dict(artist='Me'),\n",
    "#                                bitrate=1800)\n",
    "#ani.save('plots/theta_to_noise.gif', writer=writer)\n",
    "\"\"\"\n",
    "matplotlib.animation.FuncAnimation(fig, animate, frames=model.timesteps)\n",
    "\"\"\""
   ]
  },
  {
   "cell_type": "markdown",
   "metadata": {},
   "source": [
    "## Sampling"
   ]
  },
  {
   "cell_type": "code",
   "execution_count": 8,
   "metadata": {},
   "outputs": [],
   "source": [
    "mask = torch.zeros_like(val_data[0])\n",
    "mask[6:] = 1\n",
    "\n",
    "data = val_data[:1000, mask.type(torch.bool)]"
   ]
  },
  {
   "cell_type": "code",
   "execution_count": 9,
   "metadata": {},
   "outputs": [],
   "source": [
    "test_index=1"
   ]
  },
  {
   "cell_type": "code",
   "execution_count": 21,
   "metadata": {},
   "outputs": [
    {
     "name": "stderr",
     "output_type": "stream",
     "text": [
      "100%|██████████| 1/1 [00:25<00:00, 25.43s/it]\n"
     ]
    }
   ],
   "source": [
    "p0 = model.sample(data[test_index], condition_mask=mask, device=\"cuda:0\", timesteps=1000, cfg_alpha=None).to(\"cpu\")"
   ]
  },
  {
   "cell_type": "code",
   "execution_count": 22,
   "metadata": {},
   "outputs": [],
   "source": [
    "def map_kde(samples):\n",
    "    \"\"\"Find the joint mode of the multivariate distribution\"\"\"\n",
    "    s = samples.numpy()\n",
    "    kde = gaussian_kde(s.T)  # KDE expects (n_dims, n_samples)\n",
    "    \n",
    "    # Start optimization from the mean\n",
    "    initial_guess = np.mean(s, axis=0)\n",
    "    \n",
    "    # Use full minimize with multiple dimensions\n",
    "    result = optimize.minimize(lambda x: -kde(x.reshape(-1, 1)), initial_guess)\n",
    "    std_devs = np.sqrt(np.diag(kde.covariance))\n",
    "\n",
    "    return result.x, std_devs"
   ]
  },
  {
   "cell_type": "code",
   "execution_count": 23,
   "metadata": {},
   "outputs": [],
   "source": [
    "# map, std = map_kde(p[0,:,:6])\n",
    "# print(map)\n",
    "# print(std)"
   ]
  },
  {
   "cell_type": "code",
   "execution_count": 24,
   "metadata": {},
   "outputs": [],
   "source": [
    "# print(p.mean(axis=1)[0,:6])\n",
    "# print(p.std(axis=1)[0,:6])"
   ]
  },
  {
   "cell_type": "code",
   "execution_count": 25,
   "metadata": {},
   "outputs": [
    {
     "name": "stdout",
     "output_type": "stream",
     "text": [
      "[-2.03510172 -2.80640087 -0.27373387  0.56595381  0.49120485  7.79625117]\n",
      "[0.05614026 0.08153766 0.14464496 0.05781062 0.05674127 1.2476772 ]\n"
     ]
    }
   ],
   "source": [
    "map0, std0 = map_kde(p0[0,:,:6])\n",
    "print(map0)\n",
    "print(std0)"
   ]
  },
  {
   "cell_type": "code",
   "execution_count": 26,
   "metadata": {},
   "outputs": [
    {
     "name": "stdout",
     "output_type": "stream",
     "text": [
      "tensor([-2.0448, -2.8223, -0.2495,  0.5563,  0.5107,  8.3359])\n",
      "tensor([0.1120, 0.1627, 0.2886, 0.1153, 0.1132, 2.4894])\n"
     ]
    }
   ],
   "source": [
    "print(p0.mean(axis=1)[0,:6])\n",
    "print(p0.std(axis=1)[0,:6])"
   ]
  },
  {
   "cell_type": "code",
   "execution_count": 27,
   "metadata": {},
   "outputs": [
    {
     "data": {
      "text/plain": [
       "tensor([-2.0697, -2.7872, -0.3723,  0.4962,  0.4666,  7.0081,  0.2089,  0.1263,\n",
       "        -0.1243,  0.3563,  0.0342,  0.6708,  0.4106,  0.2628])"
      ]
     },
     "execution_count": 27,
     "metadata": {},
     "output_type": "execute_result"
    }
   ],
   "source": [
    "val_data[test_index]"
   ]
  },
  {
   "cell_type": "code",
   "execution_count": 29,
   "metadata": {},
   "outputs": [
    {
     "data": {
      "image/png": "[encoded data removed]",
      "text/plain": [
       "<Figure size 640x480 with 1 Axes>"
      ]
     },
     "metadata": {},
     "output_type": "display_data"
    }
   ],
   "source": [
    "sns.histplot(p0[0,:,:5].detach().numpy(), bins=1000, kde=True,color=['blue','red','green','orange','purple'], legend=False, stat='density')\n",
    "plt.vlines(val_data[test_index,:5], 0, 3, color=['blue','red','green','orange','purple'])\n",
    "#plt.vlines(val_data[1,0], 0, 10, color='red')\n",
    "plt.show()"
   ]
  },
  {
   "cell_type": "code",
   "execution_count": 30,
   "metadata": {},
   "outputs": [
    {
     "data": {
      "image/png": "[encoded data removed]",
      "text/plain": [
       "<Figure size 640x480 with 1 Axes>"
      ]
     },
     "metadata": {},
     "output_type": "display_data"
    }
   ],
   "source": [
    "sns.histplot(p0[0,:,:1].detach().numpy(), bins=100, kde=True,color=\"black\", legend=False, stat='density')\n",
    "plt.vlines(val_data[test_index,:1], 0, 10, color=\"blue\", label=\"True\")\n",
    "plt.vlines(map0[0],0,10, color=\"red\", label=\"MAP KDE\")\n",
    "plt.vlines(p0.mean(1)[0,0],0,10,color=\"purple\", label=\"Mean\")\n",
    "plt.title(r\"$\\alpha_{IMF}$ MAP vs Mean\")\n",
    "plt.legend()\n",
    "plt.show()"
   ]
  },
  {
   "cell_type": "code",
   "execution_count": 31,
   "metadata": {},
   "outputs": [
    {
     "data": {
      "image/png": "[encoded data removed]",
      "text/plain": [
       "<Figure size 640x480 with 1 Axes>"
      ]
     },
     "metadata": {},
     "output_type": "display_data"
    }
   ],
   "source": [
    "sns.histplot(p0[0,:,1:2].detach().numpy(), bins=100, kde=True,color=\"black\", legend=False, stat='density')\n",
    "plt.vlines(val_data[test_index,1:2], 0, 10, color=\"blue\", label=\"True\")\n",
    "plt.vlines(map0[1],0,10, color=\"red\", label=\"MAP KDE\")\n",
    "plt.vlines(p0.mean(1)[0,1],0,10,color=\"purple\", label=\"Mean\")\n",
    "plt.title(r\"$\\log_{10}(N_{Ia})$ MAP vs Mean\")\n",
    "plt.legend()\n",
    "plt.show()"
   ]
  },
  {
   "cell_type": "code",
   "execution_count": 20,
   "metadata": {},
   "outputs": [
    {
     "data": {
      "text/plain": [
       "\"\\nani = matplotlib.animation.FuncAnimation(fig, animate, frames=model.timesteps)\\n\\nwriter = matplotlib.animation.PillowWriter(fps=20,\\n                                metadata=dict(artist='Me'),\\n                                bitrate=1800)\\nani.save('../plots/theta_to_noise.gif', writer=writer)\\n\""
      ]
     },
     "execution_count": 20,
     "metadata": {},
     "output_type": "execute_result"
    }
   ],
   "source": [
    "\"\"\"\n",
    "plt.rcParams[\"animation.html\"] = \"jshtml\"\n",
    "#plt.rcParams['figure.dpi'] = 150  \n",
    "plt.ioff()\n",
    "fig, ax = plt.subplots()\n",
    "\n",
    "t = torch.linspace(0, 1, model.timesteps)\n",
    "color = ['red', 'blue', 'green', 'purple', 'orange', 'black']\n",
    "\n",
    "def animate(i):\n",
    "    #data_t = model.forward_diffusion_sample(train_data[:,:6], t[i])\n",
    "    data_t = model.x_t[0,i,:,:6].detach().numpy()\n",
    "    plt.cla()\n",
    "    for n in range(data_t.shape[1]):\n",
    "        plt.hist(data_t[:,n], bins=500, range=(-5,15), density=True, alpha=0.5, color=color[n])\n",
    "    plt.xlim([-5,15])\n",
    "    plt.ylim([0,1])\n",
    "    plt.title(f\"t={int(i)}\")\n",
    "\"\"\"\n",
    "\"\"\"\n",
    "ani = matplotlib.animation.FuncAnimation(fig, animate, frames=model.timesteps)\n",
    "\n",
    "writer = matplotlib.animation.PillowWriter(fps=20,\n",
    "                                metadata=dict(artist='Me'),\n",
    "                                bitrate=1800)\n",
    "ani.save('../plots/theta_to_noise.gif', writer=writer)\n",
    "\"\"\"\n",
    "# matplotlib.animation.FuncAnimation(fig, animate, frames=model.timesteps)"
   ]
  },
  {
   "cell_type": "code",
   "execution_count": null,
   "metadata": {},
   "outputs": [
    {
     "data": {
      "image/png": "[encoded data removed]",
      "text/plain": [
       "<Figure size 640x480 with 1 Axes>"
      ]
     },
     "metadata": {},
     "output_type": "display_data"
    }
   ],
   "source": [
    "# x = np.arange(0,model.sampler.data_t[0,:,:,0].shape[0]-1)\n",
    "# y = model.sampler.data_t[0,:-1,:,0].detach().numpy().mean(axis=1)\n",
    "# yerr = model.sampler.data_t[0,:-1,:,0].detach().numpy().std(axis=1)\n",
    "\n",
    "# plt.plot(x,y)\n",
    "# plt.fill_between(x, y-yerr, y+yerr, alpha=0.5)\n",
    "# plt.hlines(val_data[test_index,0], 0, model.sampler.data_t[0,:,:,0].shape[0]-1, color='red')\n",
    "# plt.title(r\"$\\alpha_{IMF}$\")\n",
    "# plt.show()"
   ]
  },
  {
   "cell_type": "code",
   "execution_count": null,
   "metadata": {},
   "outputs": [
    {
     "data": {
      "image/png": "[encoded data removed]",
      "text/plain": [
       "<Figure size 640x480 with 1 Axes>"
      ]
     },
     "metadata": {},
     "output_type": "display_data"
    }
   ],
   "source": [
    "# x = np.arange(0,model.sampler.data_t[0,:,:,0].shape[0]-1)\n",
    "# y = model.sampler.data_t[0,:-1,:,1].detach().numpy().mean(axis=1)\n",
    "# yerr = model.sampler.data_t[0,:-1,:,1].detach().numpy().std(axis=1)\n",
    "\n",
    "# plt.plot(x,y)\n",
    "# plt.fill_between(x, y-yerr, y+yerr, alpha=0.5)\n",
    "# plt.hlines(val_data[test_index,1], 0, model.sampler.data_t[0,:,:,0].shape[0]-1, color='red')\n",
    "# plt.title(r\"$\\log_{10}N_{Ia}$\")\n",
    "# plt.show()"
   ]
  },
  {
   "cell_type": "code",
   "execution_count": null,
   "metadata": {},
   "outputs": [],
   "source": [
    "# denoising_data = model.sampler.data_t.detach().numpy()\n",
    "\n",
    "# plt.rcParams[\"animation.html\"] = \"jshtml\"\n",
    "# plt.rcParams['figure.dpi'] = 100 \n",
    "# plt.ioff()\n",
    "# fig, ax = plt.subplots()\n",
    "\n",
    "# def animate(i):\n",
    "#     plt.clf()\n",
    "#     plt.xlim(-3,-1)\n",
    "#     plt.ylim(-3.5,-1.5)\n",
    "#     plt.xlabel(r'$\\alpha_{IMF}$')\n",
    "#     plt.ylabel(r'$\\log_{10}N$')\n",
    "#     plt.title(f'Denoising Timestep: {i}')\n",
    "    \n",
    "#     sns.set_style(\"white\")\n",
    "#     sns.kdeplot(x=denoising_data[0,i,:,0], y=denoising_data[0,i,:,1], cmap='Blues', fill=True, bw_adjust=0.6, levels=100)\n",
    "#     plt.tight_layout()\n",
    "\n",
    "# ani2 = matplotlib.animation.FuncAnimation(fig, animate, frames=model.sampler.timesteps) \n",
    "\n",
    "# writer = matplotlib.animation.PillowWriter(fps=10,\n",
    "#                                 bitrate=-1)\n",
    "\n",
    "# ani2.save('plots/Readme/denoising_euler1.gif', writer=writer)\n"
   ]
  },
  {
   "cell_type": "code",
   "execution_count": null,
   "metadata": {},
   "outputs": [],
   "source": [
    "# plt.rcParams[\"animation.html\"] = \"jshtml\"\n",
    "# plt.rcParams['figure.dpi'] = 100  \n",
    "# plt.ioff()\n",
    "# fig, ax = plt.subplots()\n",
    "\n",
    "# def x_dx(i, denoising_data, t):\n",
    "#     x = denoising_data[0,t,:5,i]\n",
    "#     dx = x - denoising_data[0,t+1,:5,i]\n",
    "#     return x, dx\n",
    "\n",
    "# def animate(t):\n",
    "#     plt.clf()\n",
    "#     plt.xlim(-5,5)\n",
    "#     plt.ylim(-5,5)\n",
    "#     plt.xlabel(r'$\\alpha_{IMF}$')\n",
    "#     plt.ylabel(r'$\\log_{10}N$')\n",
    "#     plt.title(f'Denoising Timestep: {t+1}')\n",
    "\n",
    "#     if t > 1:\n",
    "#         x, dx = x_dx(0, denoising_data, t-1)\n",
    "#         y, dy = x_dx(1, denoising_data, t-1)\n",
    "#         plt.quiver(x, y, -dx, -dy, scale=1, scale_units='xy', width=0.003, color=['red','blue','green','orange','purple'])\n",
    "#         plt.scatter(x, y, s=20, marker='x', color=['red','blue','green','orange','purple'])\n",
    "\n",
    "#     x, dx = x_dx(0, denoising_data, t)\n",
    "#     y, dy = x_dx(1, denoising_data, t)\n",
    "\n",
    "#     plt.quiver(x, y, -dx, -dy, scale=1, scale_units='xy', width=0.003, color=['red','blue','green','orange','purple'])\n",
    "#     plt.scatter(x, y, s=20, marker='x', color=['red','blue','green','orange','purple'])\n",
    "\n",
    "#     plt.tight_layout()\n",
    "\n",
    "# ani2 = matplotlib.animation.FuncAnimation(fig, animate, frames=model.sampler.timesteps) \n",
    "\n",
    "# writer = matplotlib.animation.PillowWriter(fps=10,\n",
    "#                                 bitrate=-1)\n",
    "# ani2.save('plots/Readme/denoising_euler2.gif', writer=writer)"
   ]
  },
  {
   "cell_type": "code",
   "execution_count": null,
   "metadata": {},
   "outputs": [
    {
     "name": "stderr",
     "output_type": "stream",
     "text": [
      "  9%|▉         | 23/250 [00:52<08:35,  2.27s/it]"
     ]
    }
   ],
   "source": [
    "p3 = model.sample(data, condition_mask=mask, device=\"cuda\", timesteps=50, cfg_alpha=None, final_corrector_steps=5, corrector_steps=10).to(\"cpu\")"
   ]
  },
  {
   "cell_type": "code",
   "execution_count": null,
   "metadata": {},
   "outputs": [],
   "source": [
    "torch.mean(100*torch.abs((val_data[:1000]-p3.mean(axis=1))/val_data[:1000]), axis=0)[:6]"
   ]
  },
  {
   "cell_type": "code",
   "execution_count": null,
   "metadata": {},
   "outputs": [],
   "source": [
    "maps = np.array([map_kde(p3[i,:,:6])[0] for i in range(len(p3))])"
   ]
  },
  {
   "cell_type": "code",
   "execution_count": null,
   "metadata": {},
   "outputs": [],
   "source": [
    "torch.mean(100*torch.abs((val_data[:1000,:6]-maps)/val_data[:1000,:6]),axis=0)"
   ]
  },
  {
   "cell_type": "code",
   "execution_count": null,
   "metadata": {},
   "outputs": [],
   "source": [
    "def log_prob(samples, theta):\n",
    "    kde = gaussian_kde(samples.T.numpy())\n",
    "    return kde.logpdf(theta).item()"
   ]
  },
  {
   "cell_type": "code",
   "execution_count": null,
   "metadata": {},
   "outputs": [],
   "source": [
    "log_probs = np.array([log_prob(p3[i,:,:6], val_data[i,:6]) for i in range(len(p3))])"
   ]
  },
  {
   "cell_type": "code",
   "execution_count": null,
   "metadata": {},
   "outputs": [],
   "source": [
    "log_probs.min()"
   ]
  },
  {
   "cell_type": "code",
   "execution_count": null,
   "metadata": {},
   "outputs": [],
   "source": [
    "log_probs.argmin()"
   ]
  },
  {
   "cell_type": "code",
   "execution_count": null,
   "metadata": {},
   "outputs": [],
   "source": [
    "log_probs.max()"
   ]
  },
  {
   "cell_type": "code",
   "execution_count": null,
   "metadata": {},
   "outputs": [],
   "source": [
    "log_probs.argmax()"
   ]
  },
  {
   "cell_type": "code",
   "execution_count": null,
   "metadata": {},
   "outputs": [],
   "source": [
    "np.mean(log_probs)"
   ]
  },
  {
   "cell_type": "code",
   "execution_count": null,
   "metadata": {},
   "outputs": [],
   "source": [
    "thetas_np=p3[:999,:,:6].numpy().transpose(1,0,2)\n",
    "val_theta_np=val_data[:999,:6].numpy()"
   ]
  },
  {
   "cell_type": "code",
   "execution_count": null,
   "metadata": {},
   "outputs": [],
   "source": [
    "val_theta_np.shape"
   ]
  },
  {
   "cell_type": "code",
   "execution_count": null,
   "metadata": {},
   "outputs": [],
   "source": [
    "thetas_np.shape"
   ]
  },
  {
   "cell_type": "code",
   "execution_count": null,
   "metadata": {},
   "outputs": [],
   "source": [
    "plot_hist = [\"coverage\", \"histogram\", \"predictions\", \"tarp\"]\n",
    "labels_in = [r\"$\\alpha_{IMF}$\", \"$log_{10}N_{1a}$\", \"$log_{10}SFE$\", \"$log_{10}SFR\", \"$x_{out}$\", \"Time\"]\n",
    "metric = PosteriorCoverage(\n",
    "    num_samples=1000, sample_method=\"direct\",\n",
    "    labels=labels_in,\n",
    "    plot_list = plot_hist\n",
    ")"
   ]
  },
  {
   "cell_type": "code",
   "execution_count": null,
   "metadata": {},
   "outputs": [],
   "source": [
    "metric._plot_coverage(thetas_np, val_theta_np,\"\")"
   ]
  },
  {
   "cell_type": "code",
   "execution_count": null,
   "metadata": {},
   "outputs": [],
   "source": [
    "metric._plot_ranks_histogram(thetas_np, val_theta_np,\"\")"
   ]
  },
  {
   "cell_type": "code",
   "execution_count": null,
   "metadata": {},
   "outputs": [],
   "source": [
    "metric._plot_predictions(thetas_np, val_theta_np,\"\")"
   ]
  },
  {
   "cell_type": "code",
   "execution_count": null,
   "metadata": {},
   "outputs": [],
   "source": [
    "metric._calc_true_logprob(thetas_np, val_theta_np,\"\")[0]"
   ]
  },
  {
   "cell_type": "code",
   "execution_count": null,
   "metadata": {},
   "outputs": [],
   "source": [
    "metric._plot_TARP(thetas_np, val_theta_np,\"\",\n",
    "                    references=\"random\", metric=\"euclidean\",\n",
    "                    num_alpha_bins=None,\n",
    "                    num_bootstrap=100,\n",
    "                    norm=True, bootstrap=True)"
   ]
  },
  {
   "cell_type": "code",
   "execution_count": null,
   "metadata": {},
   "outputs": [],
   "source": [
    "# measure tarp\n",
    "ecp, alpha = tarp.get_tarp_coverage(\n",
    "    thetas_np, val_theta_np,\n",
    "    norm=True, bootstrap=True,\n",
    "    num_bootstrap=100\n",
    ")\n",
    "tarp_val = np.mean(ecp[:,ecp.shape[1]//2])\n",
    "tarp_diff = abs(tarp_val-0.5)\n",
    "\n",
    "print(tarp_diff)"
   ]
  },
  {
   "cell_type": "code",
   "execution_count": null,
   "metadata": {},
   "outputs": [],
   "source": [
    "np.abs(ecp-np.linspace(0,1,ecp.shape[1])).max()"
   ]
  },
  {
   "cell_type": "code",
   "execution_count": null,
   "metadata": {},
   "outputs": [],
   "source": []
  }
 ],
 "metadata": {
  "kernelspec": {
   "display_name": "simformer_torch",
   "language": "python",
   "name": "python3"
  },
  "language_info": {
   "codemirror_mode": {
    "name": "ipython",
    "version": 3
   },
   "file_extension": ".py",
   "mimetype": "text/x-python",
   "name": "python",
   "nbconvert_exporter": "python",
   "pygments_lexer": "ipython3",
   "version": "3.10.14"
  }
 },
 "nbformat": 4,
 "nbformat_minor": 2
}
