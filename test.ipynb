{
 "cells": [
  {
   "cell_type": "code",
   "execution_count": 1,
   "metadata": {},
   "outputs": [],
   "source": [
    "from src.ModelTransfuser import *\n",
    "import matplotlib.pyplot as plt\n",
    "import matplotlib.animation\n",
    "import matplotlib.patches as patches\n",
    "import seaborn as sns\n",
    "\n",
    "import numpy as np\n",
    "import torch\n",
    "\n",
    "from scipy.stats import norm\n",
    "\n",
    "import os\n",
    "\n",
    "%matplotlib inline"
   ]
  },
  {
   "cell_type": "markdown",
   "metadata": {},
   "source": [
    "# Load data"
   ]
  },
  {
   "cell_type": "code",
   "execution_count": 2,
   "metadata": {},
   "outputs": [],
   "source": [
    "# --- Clean the data ---\n",
    "# Chempy sometimes returns zeros or infinite values, which need to removed\n",
    "def clean_data(x, y):\n",
    "    # Remove all zeros from the training data\n",
    "    index = np.where((y == 0).all(axis=1))[0]\n",
    "    x = np.delete(x, index, axis=0)\n",
    "    y = np.delete(y, index, axis=0)\n",
    "\n",
    "    # Remove all infinite values from the training data\n",
    "    index = np.where(np.isfinite(y).all(axis=1))[0]\n",
    "    x = x[index]\n",
    "    y = y[index]\n",
    "\n",
    "    # Remove H from Elements\n",
    "    y = np.delete(y, 2, 1)\n",
    "\n",
    "    return x, y"
   ]
  },
  {
   "cell_type": "code",
   "execution_count": 3,
   "metadata": {},
   "outputs": [
    {
     "data": {
      "text/plain": [
       "\"\\n# --- Load in training data ---\\npath_training = os.getcwd() + '/data/Chempy_data/chempy_TNG_train_data.npz'\\ntraining_data = np.load(path_training, mmap_mode='r')\\n\\nelements = training_data['elements']\\ntrain_x = training_data['params']\\ntrain_y = training_data['abundances']\\n\\ntrain_x, train_y = clean_data(train_x, train_y)\\n\\n# convert to torch tensors\\ntrain_x = torch.tensor(train_x, dtype=torch.float32)\\ntrain_y = torch.tensor(train_y, dtype=torch.float32)\\n\\n# --- add noise ---\\npc_ab = 5 # percentage error in abundance\\n\\ntrain_y_err = torch.ones_like(train_y)*float(pc_ab)/100.\\ntrain_y = norm.rvs(loc=train_y,scale=train_y_err)\\ntrain_y = torch.tensor(train_y).float()\\n\\ntrain_data = torch.cat((train_x, train_y), 1)\\n\""
      ]
     },
     "execution_count": 3,
     "metadata": {},
     "output_type": "execute_result"
    }
   ],
   "source": [
    "\"\"\"\n",
    "# --- Load in training data ---\n",
    "path_training = os.getcwd() + '/data/Chempy_data/chempy_TNG_train_data.npz'\n",
    "training_data = np.load(path_training, mmap_mode='r')\n",
    "\n",
    "elements = training_data['elements']\n",
    "train_x = training_data['params']\n",
    "train_y = training_data['abundances']\n",
    "\n",
    "train_x, train_y = clean_data(train_x, train_y)\n",
    "\n",
    "# convert to torch tensors\n",
    "train_x = torch.tensor(train_x, dtype=torch.float32)\n",
    "train_y = torch.tensor(train_y, dtype=torch.float32)\n",
    "\n",
    "# --- add noise ---\n",
    "pc_ab = 5 # percentage error in abundance\n",
    "\n",
    "train_y_err = torch.ones_like(train_y)*float(pc_ab)/100.\n",
    "train_y = norm.rvs(loc=train_y,scale=train_y_err)\n",
    "train_y = torch.tensor(train_y).float()\n",
    "\n",
    "train_data = torch.cat((train_x, train_y), 1)\n",
    "\"\"\""
   ]
  },
  {
   "cell_type": "code",
   "execution_count": 4,
   "metadata": {},
   "outputs": [],
   "source": [
    "# ---  Load in the validation data ---\n",
    "path_test = os.getcwd() + '/data/Chempy_data/chempy_TNG_val_data.npz'\n",
    "val_data = np.load(path_test, mmap_mode='r')\n",
    "\n",
    "val_x = val_data['params']\n",
    "val_y = val_data['abundances']\n",
    "\n",
    "val_x, val_y = clean_data(val_x, val_y)\n",
    "\n",
    "# convert to torch tensors\n",
    "val_x = torch.tensor(val_x, dtype=torch.float32)\n",
    "val_y = torch.tensor(val_y, dtype=torch.float32)\n",
    "\n",
    "# --- add noise ---\n",
    "pc_ab = 5 # percentage error in abundance\n",
    "\n",
    "val_y_err = torch.ones_like(val_y)*float(pc_ab)/100.\n",
    "val_y = norm.rvs(loc=val_y,scale=val_y_err)\n",
    "val_y = torch.tensor(val_y).float()\n",
    "\n",
    "val_data = torch.cat((val_x, val_y), 1)"
   ]
  },
  {
   "cell_type": "markdown",
   "metadata": {},
   "source": [
    "## Define ModelTransfuser"
   ]
  },
  {
   "cell_type": "code",
   "execution_count": 5,
   "metadata": {},
   "outputs": [],
   "source": [
    "# Define the ModelTransfuser\n",
    "\n",
    "# Time steps for the diffusion process\n",
    "#T = 20\n",
    "#t = torch.linspace(0, 1, T)\n",
    "\n",
    "model = ModelTransfuser(val_data.shape[1])\n",
    "model = model.load('data/models/ModelTransfuser_best.pickle')\n",
    "device = \"cuda:1\""
   ]
  },
  {
   "cell_type": "markdown",
   "metadata": {},
   "source": [
    "## Forward Diffusion"
   ]
  },
  {
   "cell_type": "code",
   "execution_count": 6,
   "metadata": {},
   "outputs": [
    {
     "data": {
      "text/plain": [
       "'\\nmatplotlib.animation.FuncAnimation(fig, animate, frames=model.timesteps)\\n'"
      ]
     },
     "execution_count": 6,
     "metadata": {},
     "output_type": "execute_result"
    }
   ],
   "source": [
    "\"\"\"\n",
    "plt.rcParams[\"animation.html\"] = \"jshtml\"\n",
    "plt.rcParams['figure.dpi'] = 150  \n",
    "plt.ioff()\n",
    "fig, ax = plt.subplots()\n",
    "\n",
    "t = torch.linspace(0, 1, T)\n",
    "color = ['red', 'blue', 'green', 'purple', 'orange', 'black']\n",
    "\n",
    "def animate(i):\n",
    "    data_t = model.forward_diffusion_sample(train_data[:,:6], t[i])\n",
    "    plt.cla()\n",
    "    for n in range(data_t.shape[1]):\n",
    "        plt.hist(data_t[:,n], bins=500, range=(-5,15), density=True, alpha=0.5, color=color[n])\n",
    "    plt.xlim([-5,15])\n",
    "    plt.ylim([0,1])\n",
    "    plt.title(f\"t={int(i)}\")\n",
    "\n",
    "\"\"\"\n",
    "#ani = matplotlib.animation.FuncAnimation(fig, animate, frames=model.timesteps)\n",
    "\n",
    "#writer = matplotlib.animation.PillowWriter(fps=20,\n",
    "#                                metadata=dict(artist='Me'),\n",
    "#                                bitrate=1800)\n",
    "#ani.save('plots/theta_to_noise.gif', writer=writer)\n",
    "\"\"\"\n",
    "matplotlib.animation.FuncAnimation(fig, animate, frames=model.timesteps)\n",
    "\"\"\""
   ]
  },
  {
   "cell_type": "markdown",
   "metadata": {},
   "source": [
    "## Sampling"
   ]
  },
  {
   "cell_type": "code",
   "execution_count": 7,
   "metadata": {},
   "outputs": [],
   "source": [
    "mask = torch.zeros_like(val_data[0])\n",
    "mask[6:] = 1\n",
    "\n",
    "data = val_data[:1000, mask.type(torch.bool)]"
   ]
  },
  {
   "cell_type": "code",
   "execution_count": 8,
   "metadata": {},
   "outputs": [
    {
     "name": "stderr",
     "output_type": "stream",
     "text": [
      "100%|██████████| 1/1 [00:01<00:00,  1.95s/it]\n"
     ]
    }
   ],
   "source": [
    "p=model.sample(data[0], condition_mask=mask, device=device, timesteps=100).to(\"cpu\")"
   ]
  },
  {
   "cell_type": "code",
   "execution_count": 9,
   "metadata": {},
   "outputs": [
    {
     "data": {
      "text/plain": [
       "tensor([[-2.6824e+00, -2.7647e+00, -6.8310e-02,  6.7669e-01,  6.1960e-01,\n",
       "          5.9570e+00, -1.3937e-01, -1.8535e-01,  2.4916e-01,  1.3572e-02,\n",
       "         -5.9485e-05,  2.3713e-01,  2.4115e-02,  4.6854e-02]])"
      ]
     },
     "execution_count": 9,
     "metadata": {},
     "output_type": "execute_result"
    }
   ],
   "source": [
    "p.mean(axis=1)"
   ]
  },
  {
   "cell_type": "code",
   "execution_count": 10,
   "metadata": {},
   "outputs": [
    {
     "data": {
      "text/plain": [
       "tensor([[0.0186, 0.0437, 0.2199, 0.0152, 0.0575, 1.5288, 0.0000, 0.0000, 0.0000,\n",
       "         0.0000, 0.0000, 0.0000, 0.0000, 0.0000]])"
      ]
     },
     "execution_count": 10,
     "metadata": {},
     "output_type": "execute_result"
    }
   ],
   "source": [
    "p.std(axis=1)"
   ]
  },
  {
   "cell_type": "code",
   "execution_count": 11,
   "metadata": {},
   "outputs": [
    {
     "data": {
      "text/plain": [
       "tensor([-2.7104e+00, -2.8187e+00,  9.3831e-02,  5.0761e-01,  4.8986e-01,\n",
       "         4.5705e+00, -1.3937e-01, -1.8535e-01,  2.4916e-01,  1.3572e-02,\n",
       "        -5.9485e-05,  2.3713e-01,  2.4115e-02,  4.6854e-02])"
      ]
     },
     "execution_count": 11,
     "metadata": {},
     "output_type": "execute_result"
    }
   ],
   "source": [
    "val_data[0]"
   ]
  },
  {
   "cell_type": "code",
   "execution_count": 12,
   "metadata": {},
   "outputs": [
    {
     "data": {
      "image/png": "[encoded data removed]",
      "text/plain": [
       "<Figure size 640x480 with 1 Axes>"
      ]
     },
     "metadata": {},
     "output_type": "display_data"
    }
   ],
   "source": [
    "sns.histplot(p[0,:,:5].detach().numpy(), bins=1000, kde=True,color=['blue','red','green','orange','purple'], legend=False, stat='density')\n",
    "plt.vlines(val_data[0,:5], 0, 3, color=['blue','red','green','orange','purple'])\n",
    "#plt.vlines(val_data[1,0], 0, 10, color='red')\n",
    "plt.show()"
   ]
  },
  {
   "cell_type": "code",
   "execution_count": null,
   "metadata": {},
   "outputs": [],
   "source": [
    "plt.rcParams[\"animation.html\"] = \"jshtml\"\n",
    "#plt.rcParams['figure.dpi'] = 150  \n",
    "plt.ioff()\n",
    "fig, ax = plt.subplots()\n",
    "\n",
    "t = torch.linspace(0, 1, model.timesteps)\n",
    "color = ['red', 'blue', 'green', 'purple', 'orange', 'black']\n",
    "\n",
    "def animate(i):\n",
    "    #data_t = model.forward_diffusion_sample(train_data[:,:6], t[i])\n",
    "    data_t = model.x_t[0,i,:,:6].detach().numpy()\n",
    "    plt.cla()\n",
    "    for n in range(data_t.shape[1]):\n",
    "        plt.hist(data_t[:,n], bins=500, range=(-5,15), density=True, alpha=0.5, color=color[n])\n",
    "    plt.xlim([-5,15])\n",
    "    plt.ylim([0,1])\n",
    "    plt.title(f\"t={int(i)}\")\n",
    "\n",
    "\"\"\"\n",
    "ani = matplotlib.animation.FuncAnimation(fig, animate, frames=model.timesteps)\n",
    "\n",
    "writer = matplotlib.animation.PillowWriter(fps=20,\n",
    "                                metadata=dict(artist='Me'),\n",
    "                                bitrate=1800)\n",
    "ani.save('../plots/theta_to_noise.gif', writer=writer)\n",
    "\"\"\"\n",
    "matplotlib.animation.FuncAnimation(fig, animate, frames=model.timesteps)"
   ]
  },
  {
   "cell_type": "code",
   "execution_count": 13,
   "metadata": {},
   "outputs": [
    {
     "data": {
      "image/png": "[encoded data removed]",
      "text/plain": [
       "<Figure size 640x480 with 1 Axes>"
      ]
     },
     "metadata": {},
     "output_type": "display_data"
    }
   ],
   "source": [
    "x = np.arange(0,model.timesteps+1)\n",
    "y = model.x_t[0,:,:,0].detach().numpy().mean(axis=1)\n",
    "yerr = model.x_t[0,:,:,0].detach().numpy().std(axis=1)\n",
    "\n",
    "plt.plot(x,y)\n",
    "plt.fill_between(x, y-yerr, y+yerr, alpha=0.5)\n",
    "plt.hlines(val_data[0,0], 0, model.timesteps, color='red')\n",
    "plt.title(r\"$\\alpha_{IMF}$\")\n",
    "plt.show()"
   ]
  },
  {
   "cell_type": "code",
   "execution_count": 14,
   "metadata": {},
   "outputs": [
    {
     "data": {
      "image/png": "[encoded data removed]",
      "text/plain": [
       "<Figure size 640x480 with 1 Axes>"
      ]
     },
     "metadata": {},
     "output_type": "display_data"
    }
   ],
   "source": [
    "x = np.arange(0,model.timesteps+1)\n",
    "y = model.x_t[0,:,:,1].detach().numpy().mean(axis=1)\n",
    "yerr = model.x_t[0,:,:,1].detach().numpy().std(axis=1)\n",
    "\n",
    "plt.plot(x,y)\n",
    "plt.fill_between(x, y-yerr, y+yerr, alpha=0.5)\n",
    "plt.hlines(val_data[0,1], 0, model.timesteps, color='red')\n",
    "plt.title(r\"$\\log_{10}N_{Ia}$\")\n",
    "plt.show()"
   ]
  },
  {
   "cell_type": "code",
   "execution_count": null,
   "metadata": {},
   "outputs": [],
   "source": [
    "p3=model.sample(data, condition_mask=mask, device=device).to(\"cpu\")"
   ]
  },
  {
   "cell_type": "code",
   "execution_count": null,
   "metadata": {},
   "outputs": [],
   "source": [
    "torch.mean(100*torch.abs((val_data[:1000]-p3.mean(axis=1))/val_data[:1000]), axis=0)[:6]"
   ]
  },
  {
   "cell_type": "code",
   "execution_count": null,
   "metadata": {},
   "outputs": [],
   "source": [
    "denoising_data = model.x_t.detach().numpy()\n",
    "\n",
    "plt.rcParams[\"animation.html\"] = \"jshtml\"\n",
    "plt.rcParams['figure.dpi'] = 500  \n",
    "plt.ioff()\n",
    "fig, ax = plt.subplots()\n",
    "\n",
    "def animate(i):\n",
    "    plt.clf()\n",
    "    plt.xlim(-3,-1)\n",
    "    plt.ylim(-3.5,-1.5)\n",
    "    plt.xlabel(r'$\\alpha_{IMF}$')\n",
    "    plt.ylabel(r'$\\log_{10}N$')\n",
    "    plt.title(f'Denoising Timestep: {i}')\n",
    "    \n",
    "    sns.set_style(\"white\")\n",
    "    sns.kdeplot(x=denoising_data[0,i,:,0], y=denoising_data[0,i,:,1], cmap='Blues', fill=True, bw_adjust=0.8)\n",
    "    plt.tight_layout()\n",
    "\n",
    "ani2 = matplotlib.animation.FuncAnimation(fig, animate, frames=model.timesteps+1) \n",
    "\n",
    "writer = matplotlib.animation.PillowWriter(fps=10,\n",
    "                                bitrate=-1)\n",
    "\n",
    "ani2.save('plots/test_new.gif', writer=writer)"
   ]
  }
 ],
 "metadata": {
  "kernelspec": {
   "display_name": "simformer_torch",
   "language": "python",
   "name": "python3"
  },
  "language_info": {
   "codemirror_mode": {
    "name": "ipython",
    "version": 3
   },
   "file_extension": ".py",
   "mimetype": "text/x-python",
   "name": "python",
   "nbconvert_exporter": "python",
   "pygments_lexer": "ipython3",
   "version": "3.10.14"
  }
 },
 "nbformat": 4,
 "nbformat_minor": 2
}
